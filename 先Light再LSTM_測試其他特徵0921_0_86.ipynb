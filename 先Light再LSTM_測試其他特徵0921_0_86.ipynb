{
  "nbformat": 4,
  "nbformat_minor": 0,
  "metadata": {
    "colab": {
      "name": "先Light再LSTM_測試其他特徵0921_0.86.ipynb",
      "provenance": [],
      "collapsed_sections": []
    },
    "kernelspec": {
      "name": "python3",
      "display_name": "Python 3"
    }
  },
  "cells": [
    {
      "cell_type": "code",
      "metadata": {
        "id": "XSDmYPM-NtrA",
        "colab_type": "code",
        "colab": {
          "base_uri": "https://localhost:8080/",
          "height": 1000
        },
        "outputId": "0b525b44-58ed-412c-d25f-2fce93ae973b"
      },
      "source": [
        "!pip install pydrive\n",
        "!pip install scikit-learn==0.20.0\n",
        "!pip show scikit-learn # to see which version and where scikit-learn is installed\n",
        "!pip freeze # to see all packages installed in the active virtualenv\n",
        "\"import sklearn; sklearn.show_versions()\""
      ],
      "execution_count": null,
      "outputs": [
        {
          "output_type": "stream",
          "text": [
            "Requirement already satisfied: pydrive in /usr/local/lib/python3.6/dist-packages (1.3.1)\n",
            "Requirement already satisfied: oauth2client>=4.0.0 in /usr/local/lib/python3.6/dist-packages (from pydrive) (4.1.3)\n",
            "Requirement already satisfied: google-api-python-client>=1.2 in /usr/local/lib/python3.6/dist-packages (from pydrive) (1.7.12)\n",
            "Requirement already satisfied: PyYAML>=3.0 in /usr/local/lib/python3.6/dist-packages (from pydrive) (3.13)\n",
            "Requirement already satisfied: httplib2>=0.9.1 in /usr/local/lib/python3.6/dist-packages (from oauth2client>=4.0.0->pydrive) (0.17.4)\n",
            "Requirement already satisfied: pyasn1>=0.1.7 in /usr/local/lib/python3.6/dist-packages (from oauth2client>=4.0.0->pydrive) (0.4.8)\n",
            "Requirement already satisfied: rsa>=3.1.4 in /usr/local/lib/python3.6/dist-packages (from oauth2client>=4.0.0->pydrive) (4.6)\n",
            "Requirement already satisfied: six>=1.6.1 in /usr/local/lib/python3.6/dist-packages (from oauth2client>=4.0.0->pydrive) (1.15.0)\n",
            "Requirement already satisfied: pyasn1-modules>=0.0.5 in /usr/local/lib/python3.6/dist-packages (from oauth2client>=4.0.0->pydrive) (0.2.8)\n",
            "Requirement already satisfied: uritemplate<4dev,>=3.0.0 in /usr/local/lib/python3.6/dist-packages (from google-api-python-client>=1.2->pydrive) (3.0.1)\n",
            "Requirement already satisfied: google-auth-httplib2>=0.0.3 in /usr/local/lib/python3.6/dist-packages (from google-api-python-client>=1.2->pydrive) (0.0.4)\n",
            "Requirement already satisfied: google-auth>=1.4.1 in /usr/local/lib/python3.6/dist-packages (from google-api-python-client>=1.2->pydrive) (1.17.2)\n",
            "Requirement already satisfied: cachetools<5.0,>=2.0.0 in /usr/local/lib/python3.6/dist-packages (from google-auth>=1.4.1->google-api-python-client>=1.2->pydrive) (4.1.1)\n",
            "Requirement already satisfied: setuptools>=40.3.0 in /usr/local/lib/python3.6/dist-packages (from google-auth>=1.4.1->google-api-python-client>=1.2->pydrive) (50.3.0)\n",
            "Requirement already satisfied: scikit-learn==0.20.0 in /usr/local/lib/python3.6/dist-packages (0.20.0)\n",
            "Requirement already satisfied: numpy>=1.8.2 in /usr/local/lib/python3.6/dist-packages (from scikit-learn==0.20.0) (1.18.5)\n",
            "Requirement already satisfied: scipy>=0.13.3 in /usr/local/lib/python3.6/dist-packages (from scikit-learn==0.20.0) (1.4.1)\n",
            "Name: scikit-learn\n",
            "Version: 0.20.0\n",
            "Summary: A set of python modules for machine learning and data mining\n",
            "Home-page: http://scikit-learn.org\n",
            "Author: None\n",
            "Author-email: None\n",
            "License: new BSD\n",
            "Location: /usr/local/lib/python3.6/dist-packages\n",
            "Requires: scipy, numpy\n",
            "Required-by: yellowbrick, umap-learn, textgenrnn, sklearn, sklearn-pandas, mlxtend, lucid, lightgbm, librosa, imbalanced-learn, fancyimpute\n",
            "absl-py==0.10.0\n",
            "alabaster==0.7.12\n",
            "albumentations==0.1.12\n",
            "altair==4.1.0\n",
            "argon2-cffi==20.1.0\n",
            "asgiref==3.2.10\n",
            "astor==0.8.1\n",
            "astropy==4.0.1.post1\n",
            "astunparse==1.6.3\n",
            "async-generator==1.10\n",
            "atari-py==0.2.6\n",
            "atomicwrites==1.4.0\n",
            "attrs==20.2.0\n",
            "audioread==2.1.8\n",
            "autograd==1.3\n",
            "Babel==2.8.0\n",
            "backcall==0.2.0\n",
            "beautifulsoup4==4.6.3\n",
            "bleach==3.1.5\n",
            "blis==0.4.1\n",
            "bokeh==2.1.1\n",
            "boto==2.49.0\n",
            "boto3==1.14.59\n",
            "botocore==1.17.59\n",
            "Bottleneck==1.3.2\n",
            "branca==0.4.1\n",
            "bs4==0.0.1\n",
            "CacheControl==0.12.6\n",
            "cachetools==4.1.1\n",
            "catalogue==1.0.0\n",
            "certifi==2020.6.20\n",
            "cffi==1.14.2\n",
            "chainer==7.4.0\n",
            "chardet==3.0.4\n",
            "click==7.1.2\n",
            "cloudpickle==1.3.0\n",
            "cmake==3.12.0\n",
            "cmdstanpy==0.9.5\n",
            "colorlover==0.3.0\n",
            "community==1.0.0b1\n",
            "contextlib2==0.5.5\n",
            "convertdate==2.2.2\n",
            "coverage==3.7.1\n",
            "coveralls==0.5\n",
            "crcmod==1.7\n",
            "cufflinks==0.17.3\n",
            "cvxopt==1.2.5\n",
            "cvxpy==1.0.31\n",
            "cycler==0.10.0\n",
            "cymem==2.0.3\n",
            "Cython==0.29.21\n",
            "daft==0.0.4\n",
            "dask==2.12.0\n",
            "dataclasses==0.7\n",
            "datascience==0.10.6\n",
            "debugpy==1.0.0rc2\n",
            "decorator==4.4.2\n",
            "defusedxml==0.6.0\n",
            "descartes==1.1.0\n",
            "dill==0.3.2\n",
            "distributed==1.25.3\n",
            "Django==3.1.1\n",
            "dlib==19.18.0\n",
            "dm-tree==0.1.5\n",
            "docopt==0.6.2\n",
            "docutils==0.15.2\n",
            "dopamine-rl==1.0.5\n",
            "earthengine-api==0.1.234\n",
            "easydict==1.9\n",
            "ecos==2.0.7.post1\n",
            "editdistance==0.5.3\n",
            "en-core-web-sm==2.2.5\n",
            "entrypoints==0.3\n",
            "ephem==3.7.7.1\n",
            "et-xmlfile==1.0.1\n",
            "fa2==0.3.5\n",
            "fancyimpute==0.4.3\n",
            "fastai==1.0.61\n",
            "fastdtw==0.3.4\n",
            "fastprogress==1.0.0\n",
            "fastrlock==0.5\n",
            "fbprophet==0.7.1\n",
            "feather-format==0.4.1\n",
            "filelock==3.0.12\n",
            "firebase-admin==4.1.0\n",
            "fix-yahoo-finance==0.0.22\n",
            "Flask==1.1.2\n",
            "folium==0.8.3\n",
            "future==0.16.0\n",
            "gast==0.3.3\n",
            "GDAL==2.2.2\n",
            "gdown==3.6.4\n",
            "gensim==3.6.0\n",
            "geographiclib==1.50\n",
            "geopy==1.17.0\n",
            "gin-config==0.3.0\n",
            "glob2==0.7\n",
            "google==2.0.3\n",
            "google-api-core==1.16.0\n",
            "google-api-python-client==1.7.12\n",
            "google-auth==1.17.2\n",
            "google-auth-httplib2==0.0.4\n",
            "google-auth-oauthlib==0.4.1\n",
            "google-cloud-bigquery==1.21.0\n",
            "google-cloud-core==1.0.3\n",
            "google-cloud-datastore==1.8.0\n",
            "google-cloud-firestore==1.7.0\n",
            "google-cloud-language==1.2.0\n",
            "google-cloud-storage==1.18.1\n",
            "google-cloud-translate==1.5.0\n",
            "google-colab==1.0.0\n",
            "google-pasta==0.2.0\n",
            "google-resumable-media==0.4.1\n",
            "googleapis-common-protos==1.52.0\n",
            "googledrivedownloader==0.4\n",
            "graphviz==0.10.1\n",
            "grpcio==1.32.0\n",
            "gspread==3.0.1\n",
            "gspread-dataframe==3.0.8\n",
            "gym==0.17.2\n",
            "h5py==2.10.0\n",
            "HeapDict==1.0.1\n",
            "holidays==0.10.3\n",
            "holoviews==1.13.3\n",
            "html5lib==1.0.1\n",
            "httpimport==0.5.18\n",
            "httplib2==0.17.4\n",
            "httplib2shim==0.0.3\n",
            "humanize==0.5.1\n",
            "hyperopt==0.1.2\n",
            "ideep4py==2.0.0.post3\n",
            "idna==2.10\n",
            "image==1.5.32\n",
            "imageio==2.4.1\n",
            "imagesize==1.2.0\n",
            "imbalanced-learn==0.4.3\n",
            "imblearn==0.0\n",
            "imgaug==0.2.9\n",
            "importlib-metadata==1.7.0\n",
            "imutils==0.5.3\n",
            "inflect==2.1.0\n",
            "iniconfig==1.0.1\n",
            "intel-openmp==2020.0.133\n",
            "intervaltree==2.1.0\n",
            "ipykernel==4.10.1\n",
            "ipython==5.5.0\n",
            "ipython-genutils==0.2.0\n",
            "ipython-sql==0.3.9\n",
            "ipywidgets==7.5.1\n",
            "itsdangerous==1.1.0\n",
            "jax==0.1.75\n",
            "jaxlib==0.1.52\n",
            "jdcal==1.4.1\n",
            "jedi==0.17.2\n",
            "jieba==0.42.1\n",
            "Jinja2==2.11.2\n",
            "jmespath==0.10.0\n",
            "joblib==0.16.0\n",
            "jpeg4py==0.1.4\n",
            "jsonschema==2.6.0\n",
            "jupyter==1.0.0\n",
            "jupyter-client==5.3.5\n",
            "jupyter-console==5.2.0\n",
            "jupyter-core==4.6.3\n",
            "jupyterlab-pygments==0.1.1\n",
            "kaggle==1.5.8\n",
            "kapre==0.1.3.1\n",
            "Keras==2.4.3\n",
            "Keras-Preprocessing==1.1.2\n",
            "keras-vis==0.4.1\n",
            "kiwisolver==1.2.0\n",
            "knnimpute==0.1.0\n",
            "korean-lunar-calendar==0.2.1\n",
            "librosa==0.6.3\n",
            "lightgbm==2.2.3\n",
            "llvmlite==0.31.0\n",
            "lmdb==0.99\n",
            "lucid==0.3.8\n",
            "LunarCalendar==0.0.9\n",
            "lxml==4.2.6\n",
            "Markdown==3.2.2\n",
            "MarkupSafe==1.1.1\n",
            "matplotlib==3.2.2\n",
            "matplotlib-venn==0.11.5\n",
            "missingno==0.4.2\n",
            "mistune==0.8.4\n",
            "mizani==0.6.0\n",
            "mkl==2019.0\n",
            "mlxtend==0.14.0\n",
            "more-itertools==8.5.0\n",
            "moviepy==0.2.3.5\n",
            "mpmath==1.1.0\n",
            "msgpack==1.0.0\n",
            "multiprocess==0.70.10\n",
            "multitasking==0.0.9\n",
            "murmurhash==1.0.2\n",
            "music21==5.5.0\n",
            "natsort==5.5.0\n",
            "nbclient==0.5.0\n",
            "nbconvert==5.6.1\n",
            "nbformat==5.0.7\n",
            "nest-asyncio==1.4.0\n",
            "networkx==2.5\n",
            "nibabel==3.0.2\n",
            "nltk==3.2.5\n",
            "notebook==5.3.1\n",
            "np-utils==0.5.12.1\n",
            "numba==0.48.0\n",
            "numexpr==2.7.1\n",
            "numpy==1.18.5\n",
            "nvidia-ml-py3==7.352.0\n",
            "oauth2client==4.1.3\n",
            "oauthlib==3.1.0\n",
            "okgrade==0.4.3\n",
            "opencv-contrib-python==4.1.2.30\n",
            "opencv-python==4.1.2.30\n",
            "openpyxl==2.5.9\n",
            "opt-einsum==3.3.0\n",
            "osqp==0.6.1\n",
            "packaging==20.4\n",
            "palettable==3.3.0\n",
            "pandas==1.0.5\n",
            "pandas-datareader==0.8.1\n",
            "pandas-gbq==0.11.0\n",
            "pandas-profiling==1.4.1\n",
            "pandocfilters==1.4.2\n",
            "panel==0.9.7\n",
            "param==1.9.3\n",
            "parso==0.7.1\n",
            "pathlib==1.0.1\n",
            "patsy==0.5.1\n",
            "pexpect==4.8.0\n",
            "pickleshare==0.7.5\n",
            "Pillow==7.0.0\n",
            "pip-tools==4.5.1\n",
            "plac==1.1.3\n",
            "plotly==4.4.1\n",
            "plotnine==0.6.0\n",
            "pluggy==0.7.1\n",
            "portpicker==1.3.1\n",
            "prefetch-generator==1.0.1\n",
            "preshed==3.0.2\n",
            "prettytable==0.7.2\n",
            "progressbar2==3.38.0\n",
            "prometheus-client==0.8.0\n",
            "promise==2.3\n",
            "prompt-toolkit==1.0.18\n",
            "protobuf==3.12.4\n",
            "psutil==5.4.8\n",
            "psycopg2==2.7.6.1\n",
            "ptyprocess==0.6.0\n",
            "py==1.9.0\n",
            "pyarrow==0.14.1\n",
            "pyasn1==0.4.8\n",
            "pyasn1-modules==0.2.8\n",
            "pycocotools==2.0.2\n",
            "pycparser==2.20\n",
            "pyct==0.4.7\n",
            "pydata-google-auth==1.1.0\n",
            "pydot==1.3.0\n",
            "pydot-ng==2.0.0\n",
            "pydotplus==2.0.2\n",
            "PyDrive==1.3.1\n",
            "pyemd==0.5.1\n",
            "pyglet==1.5.0\n",
            "Pygments==2.6.1\n",
            "pygobject==3.26.1\n",
            "pymc3==3.7\n",
            "PyMeeus==0.3.7\n",
            "pymongo==3.11.0\n",
            "pymystem3==0.2.0\n",
            "PyOpenGL==3.1.5\n",
            "pyparsing==2.4.7\n",
            "pyrsistent==0.17.3\n",
            "pysndfile==1.3.8\n",
            "PySocks==1.7.1\n",
            "pystan==2.19.1.1\n",
            "pytest==3.6.4\n",
            "python-apt==1.6.5+ubuntu0.3\n",
            "python-chess==0.23.11\n",
            "python-dateutil==2.8.1\n",
            "python-louvain==0.14\n",
            "python-slugify==4.0.1\n",
            "python-utils==2.4.0\n",
            "pytz==2018.9\n",
            "pyviz-comms==0.7.6\n",
            "PyWavelets==1.1.1\n",
            "PyYAML==3.13\n",
            "pyzmq==19.0.2\n",
            "qtconsole==4.7.7\n",
            "QtPy==1.9.0\n",
            "regex==2019.12.20\n",
            "requests==2.23.0\n",
            "requests-oauthlib==1.3.0\n",
            "resampy==0.2.2\n",
            "retrying==1.3.3\n",
            "rpy2==3.2.7\n",
            "rsa==4.6\n",
            "s3transfer==0.3.3\n",
            "scikit-image==0.16.2\n",
            "scikit-learn==0.20.0\n",
            "scipy==1.4.1\n",
            "screen-resolution-extra==0.0.0\n",
            "scs==2.1.2\n",
            "seaborn==0.10.1\n",
            "Send2Trash==1.5.0\n",
            "setuptools-git==1.2\n",
            "Shapely==1.7.1\n",
            "simplegeneric==0.8.1\n",
            "six==1.15.0\n",
            "sklearn==0.0\n",
            "sklearn-pandas==1.8.0\n",
            "slugify==0.0.1\n",
            "smart-open==2.1.1\n",
            "snowballstemmer==2.0.0\n",
            "sortedcontainers==2.2.2\n",
            "spacy==2.2.4\n",
            "Sphinx==1.8.5\n",
            "sphinxcontrib-serializinghtml==1.1.4\n",
            "sphinxcontrib-websupport==1.2.4\n",
            "SQLAlchemy==1.3.19\n",
            "sqlparse==0.3.1\n",
            "srsly==1.0.2\n",
            "statsmodels==0.10.2\n",
            "sympy==1.1.1\n",
            "tables==3.4.4\n",
            "tabulate==0.8.7\n",
            "tblib==1.7.0\n",
            "tensorboard==2.3.0\n",
            "tensorboard-plugin-wit==1.7.0\n",
            "tensorboardcolab==0.0.22\n",
            "tensorflow==2.3.0\n",
            "tensorflow-addons==0.8.3\n",
            "tensorflow-datasets==2.1.0\n",
            "tensorflow-estimator==2.3.0\n",
            "tensorflow-gcs-config==2.3.0\n",
            "tensorflow-hub==0.9.0\n",
            "tensorflow-metadata==0.24.0\n",
            "tensorflow-privacy==0.2.2\n",
            "tensorflow-probability==0.11.0\n",
            "termcolor==1.1.0\n",
            "terminado==0.8.3\n",
            "testpath==0.4.4\n",
            "text-unidecode==1.3\n",
            "textblob==0.15.3\n",
            "textgenrnn==1.4.1\n",
            "Theano==1.0.5\n",
            "thinc==7.4.0\n",
            "tifffile==2020.9.3\n",
            "toml==0.10.1\n",
            "toolz==0.10.0\n",
            "torch==1.6.0+cu101\n",
            "torchsummary==1.5.1\n",
            "torchtext==0.3.1\n",
            "torchvision==0.7.0+cu101\n",
            "tornado==5.1.1\n",
            "tqdm==4.41.1\n",
            "traitlets==4.3.3\n",
            "tweepy==3.6.0\n",
            "typeguard==2.7.1\n",
            "typing-extensions==3.7.4.3\n",
            "tzlocal==1.5.1\n",
            "umap-learn==0.4.6\n",
            "uritemplate==3.0.1\n",
            "urllib3==1.24.3\n",
            "vega-datasets==0.8.0\n",
            "wasabi==0.8.0\n",
            "wcwidth==0.2.5\n",
            "webencodings==0.5.1\n",
            "Werkzeug==1.0.1\n",
            "widgetsnbextension==3.5.1\n",
            "wordcloud==1.5.0\n",
            "wrapt==1.12.1\n",
            "xarray==0.15.1\n",
            "xgboost==0.90\n",
            "xkit==0.0.0\n",
            "xlrd==1.1.0\n",
            "xlwt==1.3.0\n",
            "yellowbrick==0.9.1\n",
            "zict==2.0.0\n",
            "zipp==3.1.0\n"
          ],
          "name": "stdout"
        },
        {
          "output_type": "execute_result",
          "data": {
            "application/vnd.google.colaboratory.intrinsic+json": {
              "type": "string"
            },
            "text/plain": [
              "'import sklearn; sklearn.show_versions()'"
            ]
          },
          "metadata": {
            "tags": []
          },
          "execution_count": 44
        }
      ]
    },
    {
      "cell_type": "code",
      "metadata": {
        "id": "2XwgjR5ZN43n",
        "colab_type": "code",
        "colab": {}
      },
      "source": [
        "import pandas\n",
        "import matplotlib.pyplot as plt\n",
        "from sklearn.preprocessing import MinMaxScaler\n",
        "import numpy as np\n",
        "from keras.models import Sequential\n",
        "from keras.layers import Dense,Dropout,BatchNormalization #這行milk02.ipynb\n",
        "from keras.layers import LSTM\n",
        "import math\n",
        "from sklearn.metrics import mean_squared_error  #02.ipynb\n",
        "\n",
        "import pandas as pd\n",
        "from pydrive.auth import GoogleAuth #雲端部分#載入資料用\n",
        "from pydrive.drive import GoogleDrive \n",
        "from google.colab import auth \n",
        "from oauth2client.client import GoogleCredentials\n",
        "\n",
        "#把要one hot的類別轉換成數字                           #從這以下milk02.ipynb\n",
        "from sklearn.preprocessing import LabelEncoder\n",
        "\n",
        "#把要的類別轉換成one hot\n",
        "import numpy as np\n",
        "from sklearn.preprocessing import OneHotEncoder\n",
        "from sklearn.model_selection import train_test_split\n",
        "from keras import backend as K\n",
        "from keras.optimizers import Adam\n",
        "\n",
        "from sklearn.model_selection import KFold"
      ],
      "execution_count": null,
      "outputs": []
    },
    {
      "cell_type": "code",
      "metadata": {
        "id": "dqCtCYmwN5Mq",
        "colab_type": "code",
        "colab": {
          "base_uri": "https://localhost:8080/",
          "height": 419
        },
        "outputId": "e1e3f0df-deb0-4629-c3e4-bcfdd9ac9e69"
      },
      "source": [
        "##載入new_train\n",
        "auth.authenticate_user()                  \n",
        "gauth = GoogleAuth()\n",
        "gauth.credentials = GoogleCredentials.get_application_default()\n",
        "drive = GoogleDrive(gauth)\n",
        "file_id = '1UVrXxh_IShqA5apl_YfdstyUsFyhoqxb'  #雲端硬碟檔案連結碼\n",
        "downloaded = drive.CreateFile({'id': file_id})\n",
        "downloaded.GetContentFile('NEW_Train_0917.csv')\n",
        "new_train = pd.read_csv('NEW_Train_0917.csv', sep=',')\n",
        "new_train"
      ],
      "execution_count": null,
      "outputs": [
        {
          "output_type": "execute_result",
          "data": {
            "text/html": [
              "<div>\n",
              "<style scoped>\n",
              "    .dataframe tbody tr th:only-of-type {\n",
              "        vertical-align: middle;\n",
              "    }\n",
              "\n",
              "    .dataframe tbody tr th {\n",
              "        vertical-align: top;\n",
              "    }\n",
              "\n",
              "    .dataframe thead th {\n",
              "        text-align: right;\n",
              "    }\n",
              "</style>\n",
              "<table border=\"1\" class=\"dataframe\">\n",
              "  <thead>\n",
              "    <tr style=\"text-align: right;\">\n",
              "      <th></th>\n",
              "      <th>firm</th>\n",
              "      <th>CowID</th>\n",
              "      <th>MomID</th>\n",
              "      <th>BabyNum</th>\n",
              "      <th>FeedDay</th>\n",
              "      <th>Milk</th>\n",
              "      <th>Age</th>\n",
              "      <th>BreedNum</th>\n",
              "      <th>T Max</th>\n",
              "      <th>RH</th>\n",
              "      <th>THI</th>\n",
              "      <th>disease</th>\n",
              "      <th>Sampling D Month</th>\n",
              "      <th>preMilk</th>\n",
              "    </tr>\n",
              "  </thead>\n",
              "  <tbody>\n",
              "    <tr>\n",
              "      <th>0</th>\n",
              "      <td>2</td>\n",
              "      <td>728</td>\n",
              "      <td>162</td>\n",
              "      <td>1</td>\n",
              "      <td>55</td>\n",
              "      <td>20.0</td>\n",
              "      <td>30</td>\n",
              "      <td>2</td>\n",
              "      <td>27.826169</td>\n",
              "      <td>78.502478</td>\n",
              "      <td>22.850519</td>\n",
              "      <td>1.0</td>\n",
              "      <td>2</td>\n",
              "      <td>18.486790</td>\n",
              "    </tr>\n",
              "    <tr>\n",
              "      <th>1</th>\n",
              "      <td>2</td>\n",
              "      <td>736</td>\n",
              "      <td>148</td>\n",
              "      <td>2</td>\n",
              "      <td>62</td>\n",
              "      <td>43.0</td>\n",
              "      <td>38</td>\n",
              "      <td>1</td>\n",
              "      <td>34.900000</td>\n",
              "      <td>79.000000</td>\n",
              "      <td>27.093337</td>\n",
              "      <td>0.0</td>\n",
              "      <td>1</td>\n",
              "      <td>50.028788</td>\n",
              "    </tr>\n",
              "    <tr>\n",
              "      <th>2</th>\n",
              "      <td>2</td>\n",
              "      <td>781</td>\n",
              "      <td>1099</td>\n",
              "      <td>1</td>\n",
              "      <td>11</td>\n",
              "      <td>24.0</td>\n",
              "      <td>27</td>\n",
              "      <td>0</td>\n",
              "      <td>23.800000</td>\n",
              "      <td>93.000000</td>\n",
              "      <td>21.498437</td>\n",
              "      <td>0.0</td>\n",
              "      <td>0</td>\n",
              "      <td>23.542750</td>\n",
              "    </tr>\n",
              "    <tr>\n",
              "      <th>3</th>\n",
              "      <td>1</td>\n",
              "      <td>388</td>\n",
              "      <td>407</td>\n",
              "      <td>2</td>\n",
              "      <td>290</td>\n",
              "      <td>18.2</td>\n",
              "      <td>57</td>\n",
              "      <td>7</td>\n",
              "      <td>15.700000</td>\n",
              "      <td>91.000000</td>\n",
              "      <td>12.100133</td>\n",
              "      <td>0.0</td>\n",
              "      <td>1</td>\n",
              "      <td>16.227874</td>\n",
              "    </tr>\n",
              "    <tr>\n",
              "      <th>4</th>\n",
              "      <td>2</td>\n",
              "      <td>189</td>\n",
              "      <td>943</td>\n",
              "      <td>2</td>\n",
              "      <td>156</td>\n",
              "      <td>10.0</td>\n",
              "      <td>55</td>\n",
              "      <td>1</td>\n",
              "      <td>20.200000</td>\n",
              "      <td>95.000000</td>\n",
              "      <td>17.597478</td>\n",
              "      <td>0.0</td>\n",
              "      <td>3</td>\n",
              "      <td>4.225900</td>\n",
              "    </tr>\n",
              "    <tr>\n",
              "      <th>...</th>\n",
              "      <td>...</td>\n",
              "      <td>...</td>\n",
              "      <td>...</td>\n",
              "      <td>...</td>\n",
              "      <td>...</td>\n",
              "      <td>...</td>\n",
              "      <td>...</td>\n",
              "      <td>...</td>\n",
              "      <td>...</td>\n",
              "      <td>...</td>\n",
              "      <td>...</td>\n",
              "      <td>...</td>\n",
              "      <td>...</td>\n",
              "      <td>...</td>\n",
              "    </tr>\n",
              "    <tr>\n",
              "      <th>26450</th>\n",
              "      <td>2</td>\n",
              "      <td>495</td>\n",
              "      <td>1060</td>\n",
              "      <td>3</td>\n",
              "      <td>137</td>\n",
              "      <td>33.0</td>\n",
              "      <td>60</td>\n",
              "      <td>1</td>\n",
              "      <td>31.900000</td>\n",
              "      <td>83.000000</td>\n",
              "      <td>27.146230</td>\n",
              "      <td>0.0</td>\n",
              "      <td>1</td>\n",
              "      <td>34.873643</td>\n",
              "    </tr>\n",
              "    <tr>\n",
              "      <th>26451</th>\n",
              "      <td>2</td>\n",
              "      <td>1312</td>\n",
              "      <td>1121</td>\n",
              "      <td>1</td>\n",
              "      <td>216</td>\n",
              "      <td>24.0</td>\n",
              "      <td>33</td>\n",
              "      <td>1</td>\n",
              "      <td>27.900000</td>\n",
              "      <td>91.000000</td>\n",
              "      <td>24.074355</td>\n",
              "      <td>0.0</td>\n",
              "      <td>0</td>\n",
              "      <td>23.502263</td>\n",
              "    </tr>\n",
              "    <tr>\n",
              "      <th>26452</th>\n",
              "      <td>2</td>\n",
              "      <td>149</td>\n",
              "      <td>704</td>\n",
              "      <td>1</td>\n",
              "      <td>37</td>\n",
              "      <td>20.4</td>\n",
              "      <td>26</td>\n",
              "      <td>0</td>\n",
              "      <td>16.200000</td>\n",
              "      <td>74.000000</td>\n",
              "      <td>13.401030</td>\n",
              "      <td>0.0</td>\n",
              "      <td>3</td>\n",
              "      <td>18.927031</td>\n",
              "    </tr>\n",
              "    <tr>\n",
              "      <th>26453</th>\n",
              "      <td>1</td>\n",
              "      <td>255</td>\n",
              "      <td>763</td>\n",
              "      <td>1</td>\n",
              "      <td>73</td>\n",
              "      <td>19.0</td>\n",
              "      <td>34</td>\n",
              "      <td>0</td>\n",
              "      <td>34.100000</td>\n",
              "      <td>69.000000</td>\n",
              "      <td>26.279941</td>\n",
              "      <td>0.0</td>\n",
              "      <td>2</td>\n",
              "      <td>17.265703</td>\n",
              "    </tr>\n",
              "    <tr>\n",
              "      <th>26454</th>\n",
              "      <td>1</td>\n",
              "      <td>1469</td>\n",
              "      <td>531</td>\n",
              "      <td>3</td>\n",
              "      <td>321</td>\n",
              "      <td>25.5</td>\n",
              "      <td>70</td>\n",
              "      <td>4</td>\n",
              "      <td>33.800000</td>\n",
              "      <td>73.000000</td>\n",
              "      <td>26.861394</td>\n",
              "      <td>0.0</td>\n",
              "      <td>2</td>\n",
              "      <td>25.352126</td>\n",
              "    </tr>\n",
              "  </tbody>\n",
              "</table>\n",
              "<p>26455 rows × 14 columns</p>\n",
              "</div>"
            ],
            "text/plain": [
              "       firm  CowID  MomID  ...  disease  Sampling D Month    preMilk\n",
              "0         2    728    162  ...      1.0                 2  18.486790\n",
              "1         2    736    148  ...      0.0                 1  50.028788\n",
              "2         2    781   1099  ...      0.0                 0  23.542750\n",
              "3         1    388    407  ...      0.0                 1  16.227874\n",
              "4         2    189    943  ...      0.0                 3   4.225900\n",
              "...     ...    ...    ...  ...      ...               ...        ...\n",
              "26450     2    495   1060  ...      0.0                 1  34.873643\n",
              "26451     2   1312   1121  ...      0.0                 0  23.502263\n",
              "26452     2    149    704  ...      0.0                 3  18.927031\n",
              "26453     1    255    763  ...      0.0                 2  17.265703\n",
              "26454     1   1469    531  ...      0.0                 2  25.352126\n",
              "\n",
              "[26455 rows x 14 columns]"
            ]
          },
          "metadata": {
            "tags": []
          },
          "execution_count": 45
        }
      ]
    },
    {
      "cell_type": "code",
      "metadata": {
        "id": "jyggkcMtN6WD",
        "colab_type": "code",
        "colab": {
          "base_uri": "https://localhost:8080/",
          "height": 419
        },
        "outputId": "cfd85c13-b5e8-4de7-e652-ae51bf95d7d5"
      },
      "source": [
        "##載入new_test\n",
        "auth.authenticate_user()                  \n",
        "gauth = GoogleAuth()\n",
        "gauth.credentials = GoogleCredentials.get_application_default()\n",
        "drive = GoogleDrive(gauth)\n",
        "file_id = '1B4iX6iz9Q-WtvBhMne4AN7g_hFbbsENo'  #雲端硬碟檔案連結碼\n",
        "downloaded = drive.CreateFile({'id': file_id})\n",
        "downloaded.GetContentFile('NEW_Test_0917.csv')\n",
        "new_test = pd.read_csv('NEW_Test_0917.csv', sep=',')\n",
        "#print(new_test.loc[[48]])\n",
        "new_test"
      ],
      "execution_count": null,
      "outputs": [
        {
          "output_type": "execute_result",
          "data": {
            "text/html": [
              "<div>\n",
              "<style scoped>\n",
              "    .dataframe tbody tr th:only-of-type {\n",
              "        vertical-align: middle;\n",
              "    }\n",
              "\n",
              "    .dataframe tbody tr th {\n",
              "        vertical-align: top;\n",
              "    }\n",
              "\n",
              "    .dataframe thead th {\n",
              "        text-align: right;\n",
              "    }\n",
              "</style>\n",
              "<table border=\"1\" class=\"dataframe\">\n",
              "  <thead>\n",
              "    <tr style=\"text-align: right;\">\n",
              "      <th></th>\n",
              "      <th>firm</th>\n",
              "      <th>CowID</th>\n",
              "      <th>MomID</th>\n",
              "      <th>BabyNum</th>\n",
              "      <th>FeedDay</th>\n",
              "      <th>Milk</th>\n",
              "      <th>Age</th>\n",
              "      <th>BreedNum</th>\n",
              "      <th>T Max</th>\n",
              "      <th>RH</th>\n",
              "      <th>THI</th>\n",
              "      <th>disease</th>\n",
              "      <th>Sampling D Month</th>\n",
              "      <th>preMilk</th>\n",
              "    </tr>\n",
              "  </thead>\n",
              "  <tbody>\n",
              "    <tr>\n",
              "      <th>0</th>\n",
              "      <td>2</td>\n",
              "      <td>96</td>\n",
              "      <td>983</td>\n",
              "      <td>3</td>\n",
              "      <td>183</td>\n",
              "      <td>40.0</td>\n",
              "      <td>70</td>\n",
              "      <td>2</td>\n",
              "      <td>25.5</td>\n",
              "      <td>85.0</td>\n",
              "      <td>20.236278</td>\n",
              "      <td>0.0</td>\n",
              "      <td>3</td>\n",
              "      <td>43.519725</td>\n",
              "    </tr>\n",
              "    <tr>\n",
              "      <th>1</th>\n",
              "      <td>2</td>\n",
              "      <td>494</td>\n",
              "      <td>976</td>\n",
              "      <td>3</td>\n",
              "      <td>71</td>\n",
              "      <td>28.0</td>\n",
              "      <td>50</td>\n",
              "      <td>0</td>\n",
              "      <td>35.2</td>\n",
              "      <td>82.0</td>\n",
              "      <td>23.383510</td>\n",
              "      <td>0.0</td>\n",
              "      <td>2</td>\n",
              "      <td>28.497401</td>\n",
              "    </tr>\n",
              "    <tr>\n",
              "      <th>2</th>\n",
              "      <td>3</td>\n",
              "      <td>1816</td>\n",
              "      <td>664</td>\n",
              "      <td>1</td>\n",
              "      <td>365</td>\n",
              "      <td>12.0</td>\n",
              "      <td>38</td>\n",
              "      <td>5</td>\n",
              "      <td>30.4</td>\n",
              "      <td>77.0</td>\n",
              "      <td>24.245300</td>\n",
              "      <td>0.0</td>\n",
              "      <td>2</td>\n",
              "      <td>8.522834</td>\n",
              "    </tr>\n",
              "    <tr>\n",
              "      <th>3</th>\n",
              "      <td>2</td>\n",
              "      <td>76</td>\n",
              "      <td>996</td>\n",
              "      <td>4</td>\n",
              "      <td>177</td>\n",
              "      <td>35.0</td>\n",
              "      <td>73</td>\n",
              "      <td>1</td>\n",
              "      <td>29.1</td>\n",
              "      <td>81.0</td>\n",
              "      <td>23.221440</td>\n",
              "      <td>0.0</td>\n",
              "      <td>1</td>\n",
              "      <td>37.392398</td>\n",
              "    </tr>\n",
              "    <tr>\n",
              "      <th>4</th>\n",
              "      <td>1</td>\n",
              "      <td>250</td>\n",
              "      <td>762</td>\n",
              "      <td>1</td>\n",
              "      <td>42</td>\n",
              "      <td>28.8</td>\n",
              "      <td>28</td>\n",
              "      <td>0</td>\n",
              "      <td>11.1</td>\n",
              "      <td>71.0</td>\n",
              "      <td>10.980262</td>\n",
              "      <td>0.0</td>\n",
              "      <td>3</td>\n",
              "      <td>29.436534</td>\n",
              "    </tr>\n",
              "    <tr>\n",
              "      <th>...</th>\n",
              "      <td>...</td>\n",
              "      <td>...</td>\n",
              "      <td>...</td>\n",
              "      <td>...</td>\n",
              "      <td>...</td>\n",
              "      <td>...</td>\n",
              "      <td>...</td>\n",
              "      <td>...</td>\n",
              "      <td>...</td>\n",
              "      <td>...</td>\n",
              "      <td>...</td>\n",
              "      <td>...</td>\n",
              "      <td>...</td>\n",
              "      <td>...</td>\n",
              "    </tr>\n",
              "    <tr>\n",
              "      <th>6678</th>\n",
              "      <td>2</td>\n",
              "      <td>280</td>\n",
              "      <td>1071</td>\n",
              "      <td>3</td>\n",
              "      <td>18</td>\n",
              "      <td>39.0</td>\n",
              "      <td>42</td>\n",
              "      <td>0</td>\n",
              "      <td>34.9</td>\n",
              "      <td>82.0</td>\n",
              "      <td>29.323086</td>\n",
              "      <td>0.0</td>\n",
              "      <td>2</td>\n",
              "      <td>42.210640</td>\n",
              "    </tr>\n",
              "    <tr>\n",
              "      <th>6679</th>\n",
              "      <td>2</td>\n",
              "      <td>1789</td>\n",
              "      <td>1122</td>\n",
              "      <td>2</td>\n",
              "      <td>508</td>\n",
              "      <td>10.0</td>\n",
              "      <td>52</td>\n",
              "      <td>4</td>\n",
              "      <td>34.8</td>\n",
              "      <td>72.0</td>\n",
              "      <td>28.814617</td>\n",
              "      <td>0.0</td>\n",
              "      <td>2</td>\n",
              "      <td>3.773601</td>\n",
              "    </tr>\n",
              "    <tr>\n",
              "      <th>6680</th>\n",
              "      <td>2</td>\n",
              "      <td>1554</td>\n",
              "      <td>1122</td>\n",
              "      <td>3</td>\n",
              "      <td>158</td>\n",
              "      <td>30.6</td>\n",
              "      <td>62</td>\n",
              "      <td>1</td>\n",
              "      <td>34.4</td>\n",
              "      <td>75.0</td>\n",
              "      <td>27.200232</td>\n",
              "      <td>0.0</td>\n",
              "      <td>1</td>\n",
              "      <td>31.852630</td>\n",
              "    </tr>\n",
              "    <tr>\n",
              "      <th>6681</th>\n",
              "      <td>2</td>\n",
              "      <td>466</td>\n",
              "      <td>715</td>\n",
              "      <td>1</td>\n",
              "      <td>9</td>\n",
              "      <td>20.0</td>\n",
              "      <td>22</td>\n",
              "      <td>0</td>\n",
              "      <td>19.5</td>\n",
              "      <td>80.0</td>\n",
              "      <td>16.578618</td>\n",
              "      <td>1.0</td>\n",
              "      <td>3</td>\n",
              "      <td>18.585823</td>\n",
              "    </tr>\n",
              "    <tr>\n",
              "      <th>6682</th>\n",
              "      <td>2</td>\n",
              "      <td>980</td>\n",
              "      <td>287</td>\n",
              "      <td>1</td>\n",
              "      <td>204</td>\n",
              "      <td>16.0</td>\n",
              "      <td>32</td>\n",
              "      <td>4</td>\n",
              "      <td>25.9</td>\n",
              "      <td>72.0</td>\n",
              "      <td>20.509629</td>\n",
              "      <td>0.0</td>\n",
              "      <td>1</td>\n",
              "      <td>13.506725</td>\n",
              "    </tr>\n",
              "  </tbody>\n",
              "</table>\n",
              "<p>6683 rows × 14 columns</p>\n",
              "</div>"
            ],
            "text/plain": [
              "      firm  CowID  MomID  ...  disease  Sampling D Month    preMilk\n",
              "0        2     96    983  ...      0.0                 3  43.519725\n",
              "1        2    494    976  ...      0.0                 2  28.497401\n",
              "2        3   1816    664  ...      0.0                 2   8.522834\n",
              "3        2     76    996  ...      0.0                 1  37.392398\n",
              "4        1    250    762  ...      0.0                 3  29.436534\n",
              "...    ...    ...    ...  ...      ...               ...        ...\n",
              "6678     2    280   1071  ...      0.0                 2  42.210640\n",
              "6679     2   1789   1122  ...      0.0                 2   3.773601\n",
              "6680     2   1554   1122  ...      0.0                 1  31.852630\n",
              "6681     2    466    715  ...      1.0                 3  18.585823\n",
              "6682     2    980    287  ...      0.0                 1  13.506725\n",
              "\n",
              "[6683 rows x 14 columns]"
            ]
          },
          "metadata": {
            "tags": []
          },
          "execution_count": 46
        }
      ]
    },
    {
      "cell_type": "code",
      "metadata": {
        "id": "c-KC97dcN9aQ",
        "colab_type": "code",
        "colab": {}
      },
      "source": [
        "import pandas as pd\n",
        "from pydrive.auth import GoogleAuth\n",
        "from pydrive.drive import GoogleDrive \n",
        "from google.colab import auth \n",
        "from oauth2client.client import GoogleCredentials\n",
        " \n",
        "auth.authenticate_user()\n",
        "gauth = GoogleAuth()\n",
        "gauth.credentials = GoogleCredentials.get_application_default()\n",
        "drive = GoogleDrive(gauth)\n",
        "file_id = '1TgijKpsq6haP2C6yHsA7_bVtf5Ra6Cps'  #雲端硬碟檔案連結碼\n",
        "downloaded = drive.CreateFile({'id': file_id})\n",
        "downloaded.GetContentFile('spec01.csv')\n",
        "spec = pd.read_csv('spec01.csv',sep=',')\n",
        "#print(spec)"
      ],
      "execution_count": null,
      "outputs": []
    },
    {
      "cell_type": "code",
      "metadata": {
        "id": "ThqfMyyjN-ZN",
        "colab_type": "code",
        "colab": {
          "base_uri": "https://localhost:8080/",
          "height": 272
        },
        "outputId": "8d86b67c-96a0-457b-8baa-ced31e6ee97d"
      },
      "source": [
        "for i in range(len(spec['7'])):\n",
        "    if(str(spec['7'][i])==str(\"A\")):\n",
        "          spec['7'][i]=1\n",
        "for i in range(len(spec['7'])):\n",
        "    if(str(spec['7'][i])==str('B')):\n",
        "          spec['7'][i]=2\n",
        "for i in range(len(spec['7'])):\n",
        "    if(str(spec['7'][i])==str('C')):\n",
        "          spec['7'][i]=3\n",
        "#spec"
      ],
      "execution_count": null,
      "outputs": [
        {
          "output_type": "stream",
          "text": [
            "/usr/local/lib/python3.6/dist-packages/ipykernel_launcher.py:3: SettingWithCopyWarning: \n",
            "A value is trying to be set on a copy of a slice from a DataFrame\n",
            "\n",
            "See the caveats in the documentation: https://pandas.pydata.org/pandas-docs/stable/user_guide/indexing.html#returning-a-view-versus-a-copy\n",
            "  This is separate from the ipykernel package so we can avoid doing imports until\n",
            "/usr/local/lib/python3.6/dist-packages/ipykernel_launcher.py:6: SettingWithCopyWarning: \n",
            "A value is trying to be set on a copy of a slice from a DataFrame\n",
            "\n",
            "See the caveats in the documentation: https://pandas.pydata.org/pandas-docs/stable/user_guide/indexing.html#returning-a-view-versus-a-copy\n",
            "  \n",
            "/usr/local/lib/python3.6/dist-packages/ipykernel_launcher.py:9: SettingWithCopyWarning: \n",
            "A value is trying to be set on a copy of a slice from a DataFrame\n",
            "\n",
            "See the caveats in the documentation: https://pandas.pydata.org/pandas-docs/stable/user_guide/indexing.html#returning-a-view-versus-a-copy\n",
            "  if __name__ == '__main__':\n"
          ],
          "name": "stderr"
        }
      ]
    },
    {
      "cell_type": "code",
      "metadata": {
        "id": "5_NhTrl2N_pk",
        "colab_type": "code",
        "colab": {}
      },
      "source": [
        "#測試spec\n",
        "#spec.loc[[4290]]"
      ],
      "execution_count": null,
      "outputs": []
    },
    {
      "cell_type": "code",
      "metadata": {
        "id": "gT3FI164OFUV",
        "colab_type": "code",
        "colab": {
          "base_uri": "https://localhost:8080/",
          "height": 221
        },
        "outputId": "a98c1dd3-66c3-4778-b255-f5d6bf270f35"
      },
      "source": [
        "new_train['Milk']"
      ],
      "execution_count": null,
      "outputs": [
        {
          "output_type": "execute_result",
          "data": {
            "text/plain": [
              "0        20.0\n",
              "1        43.0\n",
              "2        24.0\n",
              "3        18.2\n",
              "4        10.0\n",
              "         ... \n",
              "26450    33.0\n",
              "26451    24.0\n",
              "26452    20.4\n",
              "26453    19.0\n",
              "26454    25.5\n",
              "Name: Milk, Length: 26455, dtype: float64"
            ]
          },
          "metadata": {
            "tags": []
          },
          "execution_count": 50
        }
      ]
    },
    {
      "cell_type": "code",
      "metadata": {
        "id": "plSzSFvf_ONi",
        "colab_type": "code",
        "colab": {
          "base_uri": "https://localhost:8080/",
          "height": 221
        },
        "outputId": "cbe0782d-42ab-4685-e678-015cf5d52fe9"
      },
      "source": [
        "y_fortest=new_test['Milk']\n",
        "y_fortest"
      ],
      "execution_count": null,
      "outputs": [
        {
          "output_type": "execute_result",
          "data": {
            "text/plain": [
              "0       40.0\n",
              "1       28.0\n",
              "2       12.0\n",
              "3       35.0\n",
              "4       28.8\n",
              "        ... \n",
              "6678    39.0\n",
              "6679    10.0\n",
              "6680    30.6\n",
              "6681    20.0\n",
              "6682    16.0\n",
              "Name: Milk, Length: 6683, dtype: float64"
            ]
          },
          "metadata": {
            "tags": []
          },
          "execution_count": 51
        }
      ]
    },
    {
      "cell_type": "code",
      "metadata": {
        "id": "LTpeS-6SOcbn",
        "colab_type": "code",
        "colab": {
          "base_uri": "https://localhost:8080/",
          "height": 221
        },
        "outputId": "db11989d-c820-4d74-a820-2374caefb15f"
      },
      "source": [
        "y=new_train['Milk']\n",
        "y"
      ],
      "execution_count": null,
      "outputs": [
        {
          "output_type": "execute_result",
          "data": {
            "text/plain": [
              "0        20.0\n",
              "1        43.0\n",
              "2        24.0\n",
              "3        18.2\n",
              "4        10.0\n",
              "         ... \n",
              "26450    33.0\n",
              "26451    24.0\n",
              "26452    20.4\n",
              "26453    19.0\n",
              "26454    25.5\n",
              "Name: Milk, Length: 26455, dtype: float64"
            ]
          },
          "metadata": {
            "tags": []
          },
          "execution_count": 52
        }
      ]
    },
    {
      "cell_type": "code",
      "metadata": {
        "id": "WPuuyTrmOfty",
        "colab_type": "code",
        "colab": {}
      },
      "source": [
        "new_train_backup = new_train\n",
        "new_test_backup = new_test"
      ],
      "execution_count": null,
      "outputs": []
    },
    {
      "cell_type": "code",
      "metadata": {
        "id": "ooFKIIeGOg8o",
        "colab_type": "code",
        "colab": {
          "base_uri": "https://localhost:8080/",
          "height": 419
        },
        "outputId": "18d9488f-37a6-4433-8873-d460843d474b"
      },
      "source": [
        "#挑選靠賽要訓練的資料\n",
        "new_train=pd.DataFrame(data=new_train_backup,columns=['firm','CowID','BabyNum','preMilk','FeedDay','Age','BreedNum','T Max','THI','Sampling D Month'])\n",
        "new_train"
      ],
      "execution_count": null,
      "outputs": [
        {
          "output_type": "execute_result",
          "data": {
            "text/html": [
              "<div>\n",
              "<style scoped>\n",
              "    .dataframe tbody tr th:only-of-type {\n",
              "        vertical-align: middle;\n",
              "    }\n",
              "\n",
              "    .dataframe tbody tr th {\n",
              "        vertical-align: top;\n",
              "    }\n",
              "\n",
              "    .dataframe thead th {\n",
              "        text-align: right;\n",
              "    }\n",
              "</style>\n",
              "<table border=\"1\" class=\"dataframe\">\n",
              "  <thead>\n",
              "    <tr style=\"text-align: right;\">\n",
              "      <th></th>\n",
              "      <th>firm</th>\n",
              "      <th>CowID</th>\n",
              "      <th>BabyNum</th>\n",
              "      <th>preMilk</th>\n",
              "      <th>FeedDay</th>\n",
              "      <th>Age</th>\n",
              "      <th>BreedNum</th>\n",
              "      <th>T Max</th>\n",
              "      <th>THI</th>\n",
              "      <th>Sampling D Month</th>\n",
              "    </tr>\n",
              "  </thead>\n",
              "  <tbody>\n",
              "    <tr>\n",
              "      <th>0</th>\n",
              "      <td>2</td>\n",
              "      <td>728</td>\n",
              "      <td>1</td>\n",
              "      <td>18.486790</td>\n",
              "      <td>55</td>\n",
              "      <td>30</td>\n",
              "      <td>2</td>\n",
              "      <td>27.826169</td>\n",
              "      <td>22.850519</td>\n",
              "      <td>2</td>\n",
              "    </tr>\n",
              "    <tr>\n",
              "      <th>1</th>\n",
              "      <td>2</td>\n",
              "      <td>736</td>\n",
              "      <td>2</td>\n",
              "      <td>50.028788</td>\n",
              "      <td>62</td>\n",
              "      <td>38</td>\n",
              "      <td>1</td>\n",
              "      <td>34.900000</td>\n",
              "      <td>27.093337</td>\n",
              "      <td>1</td>\n",
              "    </tr>\n",
              "    <tr>\n",
              "      <th>2</th>\n",
              "      <td>2</td>\n",
              "      <td>781</td>\n",
              "      <td>1</td>\n",
              "      <td>23.542750</td>\n",
              "      <td>11</td>\n",
              "      <td>27</td>\n",
              "      <td>0</td>\n",
              "      <td>23.800000</td>\n",
              "      <td>21.498437</td>\n",
              "      <td>0</td>\n",
              "    </tr>\n",
              "    <tr>\n",
              "      <th>3</th>\n",
              "      <td>1</td>\n",
              "      <td>388</td>\n",
              "      <td>2</td>\n",
              "      <td>16.227874</td>\n",
              "      <td>290</td>\n",
              "      <td>57</td>\n",
              "      <td>7</td>\n",
              "      <td>15.700000</td>\n",
              "      <td>12.100133</td>\n",
              "      <td>1</td>\n",
              "    </tr>\n",
              "    <tr>\n",
              "      <th>4</th>\n",
              "      <td>2</td>\n",
              "      <td>189</td>\n",
              "      <td>2</td>\n",
              "      <td>4.225900</td>\n",
              "      <td>156</td>\n",
              "      <td>55</td>\n",
              "      <td>1</td>\n",
              "      <td>20.200000</td>\n",
              "      <td>17.597478</td>\n",
              "      <td>3</td>\n",
              "    </tr>\n",
              "    <tr>\n",
              "      <th>...</th>\n",
              "      <td>...</td>\n",
              "      <td>...</td>\n",
              "      <td>...</td>\n",
              "      <td>...</td>\n",
              "      <td>...</td>\n",
              "      <td>...</td>\n",
              "      <td>...</td>\n",
              "      <td>...</td>\n",
              "      <td>...</td>\n",
              "      <td>...</td>\n",
              "    </tr>\n",
              "    <tr>\n",
              "      <th>26450</th>\n",
              "      <td>2</td>\n",
              "      <td>495</td>\n",
              "      <td>3</td>\n",
              "      <td>34.873643</td>\n",
              "      <td>137</td>\n",
              "      <td>60</td>\n",
              "      <td>1</td>\n",
              "      <td>31.900000</td>\n",
              "      <td>27.146230</td>\n",
              "      <td>1</td>\n",
              "    </tr>\n",
              "    <tr>\n",
              "      <th>26451</th>\n",
              "      <td>2</td>\n",
              "      <td>1312</td>\n",
              "      <td>1</td>\n",
              "      <td>23.502263</td>\n",
              "      <td>216</td>\n",
              "      <td>33</td>\n",
              "      <td>1</td>\n",
              "      <td>27.900000</td>\n",
              "      <td>24.074355</td>\n",
              "      <td>0</td>\n",
              "    </tr>\n",
              "    <tr>\n",
              "      <th>26452</th>\n",
              "      <td>2</td>\n",
              "      <td>149</td>\n",
              "      <td>1</td>\n",
              "      <td>18.927031</td>\n",
              "      <td>37</td>\n",
              "      <td>26</td>\n",
              "      <td>0</td>\n",
              "      <td>16.200000</td>\n",
              "      <td>13.401030</td>\n",
              "      <td>3</td>\n",
              "    </tr>\n",
              "    <tr>\n",
              "      <th>26453</th>\n",
              "      <td>1</td>\n",
              "      <td>255</td>\n",
              "      <td>1</td>\n",
              "      <td>17.265703</td>\n",
              "      <td>73</td>\n",
              "      <td>34</td>\n",
              "      <td>0</td>\n",
              "      <td>34.100000</td>\n",
              "      <td>26.279941</td>\n",
              "      <td>2</td>\n",
              "    </tr>\n",
              "    <tr>\n",
              "      <th>26454</th>\n",
              "      <td>1</td>\n",
              "      <td>1469</td>\n",
              "      <td>3</td>\n",
              "      <td>25.352126</td>\n",
              "      <td>321</td>\n",
              "      <td>70</td>\n",
              "      <td>4</td>\n",
              "      <td>33.800000</td>\n",
              "      <td>26.861394</td>\n",
              "      <td>2</td>\n",
              "    </tr>\n",
              "  </tbody>\n",
              "</table>\n",
              "<p>26455 rows × 10 columns</p>\n",
              "</div>"
            ],
            "text/plain": [
              "       firm  CowID  BabyNum  ...      T Max        THI  Sampling D Month\n",
              "0         2    728        1  ...  27.826169  22.850519                 2\n",
              "1         2    736        2  ...  34.900000  27.093337                 1\n",
              "2         2    781        1  ...  23.800000  21.498437                 0\n",
              "3         1    388        2  ...  15.700000  12.100133                 1\n",
              "4         2    189        2  ...  20.200000  17.597478                 3\n",
              "...     ...    ...      ...  ...        ...        ...               ...\n",
              "26450     2    495        3  ...  31.900000  27.146230                 1\n",
              "26451     2   1312        1  ...  27.900000  24.074355                 0\n",
              "26452     2    149        1  ...  16.200000  13.401030                 3\n",
              "26453     1    255        1  ...  34.100000  26.279941                 2\n",
              "26454     1   1469        3  ...  33.800000  26.861394                 2\n",
              "\n",
              "[26455 rows x 10 columns]"
            ]
          },
          "metadata": {
            "tags": []
          },
          "execution_count": 55
        }
      ]
    },
    {
      "cell_type": "code",
      "metadata": {
        "id": "mLzp7n4uOha1",
        "colab_type": "code",
        "colab": {
          "base_uri": "https://localhost:8080/",
          "height": 419
        },
        "outputId": "1c1338f2-571f-49cb-87e4-89cb7e73c68f"
      },
      "source": [
        "new_test=pd.DataFrame(data=new_test_backup,columns=['firm','CowID','BabyNum','preMilk','FeedDay','Age','BreedNum','T Max','THI','Sampling D Month'])\n",
        "new_test"
      ],
      "execution_count": null,
      "outputs": [
        {
          "output_type": "execute_result",
          "data": {
            "text/html": [
              "<div>\n",
              "<style scoped>\n",
              "    .dataframe tbody tr th:only-of-type {\n",
              "        vertical-align: middle;\n",
              "    }\n",
              "\n",
              "    .dataframe tbody tr th {\n",
              "        vertical-align: top;\n",
              "    }\n",
              "\n",
              "    .dataframe thead th {\n",
              "        text-align: right;\n",
              "    }\n",
              "</style>\n",
              "<table border=\"1\" class=\"dataframe\">\n",
              "  <thead>\n",
              "    <tr style=\"text-align: right;\">\n",
              "      <th></th>\n",
              "      <th>firm</th>\n",
              "      <th>CowID</th>\n",
              "      <th>BabyNum</th>\n",
              "      <th>preMilk</th>\n",
              "      <th>FeedDay</th>\n",
              "      <th>Age</th>\n",
              "      <th>BreedNum</th>\n",
              "      <th>T Max</th>\n",
              "      <th>THI</th>\n",
              "      <th>Sampling D Month</th>\n",
              "    </tr>\n",
              "  </thead>\n",
              "  <tbody>\n",
              "    <tr>\n",
              "      <th>0</th>\n",
              "      <td>2</td>\n",
              "      <td>96</td>\n",
              "      <td>3</td>\n",
              "      <td>43.519725</td>\n",
              "      <td>183</td>\n",
              "      <td>70</td>\n",
              "      <td>2</td>\n",
              "      <td>25.5</td>\n",
              "      <td>20.236278</td>\n",
              "      <td>3</td>\n",
              "    </tr>\n",
              "    <tr>\n",
              "      <th>1</th>\n",
              "      <td>2</td>\n",
              "      <td>494</td>\n",
              "      <td>3</td>\n",
              "      <td>28.497401</td>\n",
              "      <td>71</td>\n",
              "      <td>50</td>\n",
              "      <td>0</td>\n",
              "      <td>35.2</td>\n",
              "      <td>23.383510</td>\n",
              "      <td>2</td>\n",
              "    </tr>\n",
              "    <tr>\n",
              "      <th>2</th>\n",
              "      <td>3</td>\n",
              "      <td>1816</td>\n",
              "      <td>1</td>\n",
              "      <td>8.522834</td>\n",
              "      <td>365</td>\n",
              "      <td>38</td>\n",
              "      <td>5</td>\n",
              "      <td>30.4</td>\n",
              "      <td>24.245300</td>\n",
              "      <td>2</td>\n",
              "    </tr>\n",
              "    <tr>\n",
              "      <th>3</th>\n",
              "      <td>2</td>\n",
              "      <td>76</td>\n",
              "      <td>4</td>\n",
              "      <td>37.392398</td>\n",
              "      <td>177</td>\n",
              "      <td>73</td>\n",
              "      <td>1</td>\n",
              "      <td>29.1</td>\n",
              "      <td>23.221440</td>\n",
              "      <td>1</td>\n",
              "    </tr>\n",
              "    <tr>\n",
              "      <th>4</th>\n",
              "      <td>1</td>\n",
              "      <td>250</td>\n",
              "      <td>1</td>\n",
              "      <td>29.436534</td>\n",
              "      <td>42</td>\n",
              "      <td>28</td>\n",
              "      <td>0</td>\n",
              "      <td>11.1</td>\n",
              "      <td>10.980262</td>\n",
              "      <td>3</td>\n",
              "    </tr>\n",
              "    <tr>\n",
              "      <th>...</th>\n",
              "      <td>...</td>\n",
              "      <td>...</td>\n",
              "      <td>...</td>\n",
              "      <td>...</td>\n",
              "      <td>...</td>\n",
              "      <td>...</td>\n",
              "      <td>...</td>\n",
              "      <td>...</td>\n",
              "      <td>...</td>\n",
              "      <td>...</td>\n",
              "    </tr>\n",
              "    <tr>\n",
              "      <th>6678</th>\n",
              "      <td>2</td>\n",
              "      <td>280</td>\n",
              "      <td>3</td>\n",
              "      <td>42.210640</td>\n",
              "      <td>18</td>\n",
              "      <td>42</td>\n",
              "      <td>0</td>\n",
              "      <td>34.9</td>\n",
              "      <td>29.323086</td>\n",
              "      <td>2</td>\n",
              "    </tr>\n",
              "    <tr>\n",
              "      <th>6679</th>\n",
              "      <td>2</td>\n",
              "      <td>1789</td>\n",
              "      <td>2</td>\n",
              "      <td>3.773601</td>\n",
              "      <td>508</td>\n",
              "      <td>52</td>\n",
              "      <td>4</td>\n",
              "      <td>34.8</td>\n",
              "      <td>28.814617</td>\n",
              "      <td>2</td>\n",
              "    </tr>\n",
              "    <tr>\n",
              "      <th>6680</th>\n",
              "      <td>2</td>\n",
              "      <td>1554</td>\n",
              "      <td>3</td>\n",
              "      <td>31.852630</td>\n",
              "      <td>158</td>\n",
              "      <td>62</td>\n",
              "      <td>1</td>\n",
              "      <td>34.4</td>\n",
              "      <td>27.200232</td>\n",
              "      <td>1</td>\n",
              "    </tr>\n",
              "    <tr>\n",
              "      <th>6681</th>\n",
              "      <td>2</td>\n",
              "      <td>466</td>\n",
              "      <td>1</td>\n",
              "      <td>18.585823</td>\n",
              "      <td>9</td>\n",
              "      <td>22</td>\n",
              "      <td>0</td>\n",
              "      <td>19.5</td>\n",
              "      <td>16.578618</td>\n",
              "      <td>3</td>\n",
              "    </tr>\n",
              "    <tr>\n",
              "      <th>6682</th>\n",
              "      <td>2</td>\n",
              "      <td>980</td>\n",
              "      <td>1</td>\n",
              "      <td>13.506725</td>\n",
              "      <td>204</td>\n",
              "      <td>32</td>\n",
              "      <td>4</td>\n",
              "      <td>25.9</td>\n",
              "      <td>20.509629</td>\n",
              "      <td>1</td>\n",
              "    </tr>\n",
              "  </tbody>\n",
              "</table>\n",
              "<p>6683 rows × 10 columns</p>\n",
              "</div>"
            ],
            "text/plain": [
              "      firm  CowID  BabyNum  ...  T Max        THI  Sampling D Month\n",
              "0        2     96        3  ...   25.5  20.236278                 3\n",
              "1        2    494        3  ...   35.2  23.383510                 2\n",
              "2        3   1816        1  ...   30.4  24.245300                 2\n",
              "3        2     76        4  ...   29.1  23.221440                 1\n",
              "4        1    250        1  ...   11.1  10.980262                 3\n",
              "...    ...    ...      ...  ...    ...        ...               ...\n",
              "6678     2    280        3  ...   34.9  29.323086                 2\n",
              "6679     2   1789        2  ...   34.8  28.814617                 2\n",
              "6680     2   1554        3  ...   34.4  27.200232                 1\n",
              "6681     2    466        1  ...   19.5  16.578618                 3\n",
              "6682     2    980        1  ...   25.9  20.509629                 1\n",
              "\n",
              "[6683 rows x 10 columns]"
            ]
          },
          "metadata": {
            "tags": []
          },
          "execution_count": 56
        }
      ]
    },
    {
      "cell_type": "code",
      "metadata": {
        "id": "hNTI_rKoOigv",
        "colab_type": "code",
        "colab": {}
      },
      "source": [
        "#把要one hot的類別轉換成數字\n",
        "from sklearn.preprocessing import LabelEncoder\n",
        "labelencoder = LabelEncoder()\n",
        "all_data=pd.concat([new_train,new_test])\n",
        "#all_data['3'] = labelencoder.fit_transform(all_data['3'])\n",
        "all_data['CowID'] = labelencoder.fit_transform(all_data['CowID'])\n",
        "#all_data['MomID'] = labelencoder.fit_transform(all_data['MomID'])\n",
        "#all_data['DadID'] = labelencoder.fit_transform(all_data['DadID'])\n",
        "all_data['Sampling D Month'] = labelencoder.fit_transform(all_data['Sampling D Month'])\n",
        "new_train = all_data[0:len(new_train)]\n",
        "new_test = all_data[len(new_train)::]\n",
        "all_data=pd.concat([new_train,new_test])\n"
      ],
      "execution_count": null,
      "outputs": []
    },
    {
      "cell_type": "code",
      "metadata": {
        "id": "DPvPGadmOj6C",
        "colab_type": "code",
        "colab": {
          "base_uri": "https://localhost:8080/",
          "height": 419
        },
        "outputId": "04d1ba88-f09d-4d0e-ef28-1f7295746691"
      },
      "source": [
        "all_data"
      ],
      "execution_count": null,
      "outputs": [
        {
          "output_type": "execute_result",
          "data": {
            "text/html": [
              "<div>\n",
              "<style scoped>\n",
              "    .dataframe tbody tr th:only-of-type {\n",
              "        vertical-align: middle;\n",
              "    }\n",
              "\n",
              "    .dataframe tbody tr th {\n",
              "        vertical-align: top;\n",
              "    }\n",
              "\n",
              "    .dataframe thead th {\n",
              "        text-align: right;\n",
              "    }\n",
              "</style>\n",
              "<table border=\"1\" class=\"dataframe\">\n",
              "  <thead>\n",
              "    <tr style=\"text-align: right;\">\n",
              "      <th></th>\n",
              "      <th>firm</th>\n",
              "      <th>CowID</th>\n",
              "      <th>BabyNum</th>\n",
              "      <th>preMilk</th>\n",
              "      <th>FeedDay</th>\n",
              "      <th>Age</th>\n",
              "      <th>BreedNum</th>\n",
              "      <th>T Max</th>\n",
              "      <th>THI</th>\n",
              "      <th>Sampling D Month</th>\n",
              "    </tr>\n",
              "  </thead>\n",
              "  <tbody>\n",
              "    <tr>\n",
              "      <th>0</th>\n",
              "      <td>2</td>\n",
              "      <td>728</td>\n",
              "      <td>1</td>\n",
              "      <td>18.486790</td>\n",
              "      <td>55</td>\n",
              "      <td>30</td>\n",
              "      <td>2</td>\n",
              "      <td>27.826169</td>\n",
              "      <td>22.850519</td>\n",
              "      <td>2</td>\n",
              "    </tr>\n",
              "    <tr>\n",
              "      <th>1</th>\n",
              "      <td>2</td>\n",
              "      <td>736</td>\n",
              "      <td>2</td>\n",
              "      <td>50.028788</td>\n",
              "      <td>62</td>\n",
              "      <td>38</td>\n",
              "      <td>1</td>\n",
              "      <td>34.900000</td>\n",
              "      <td>27.093337</td>\n",
              "      <td>1</td>\n",
              "    </tr>\n",
              "    <tr>\n",
              "      <th>2</th>\n",
              "      <td>2</td>\n",
              "      <td>781</td>\n",
              "      <td>1</td>\n",
              "      <td>23.542750</td>\n",
              "      <td>11</td>\n",
              "      <td>27</td>\n",
              "      <td>0</td>\n",
              "      <td>23.800000</td>\n",
              "      <td>21.498437</td>\n",
              "      <td>0</td>\n",
              "    </tr>\n",
              "    <tr>\n",
              "      <th>3</th>\n",
              "      <td>1</td>\n",
              "      <td>388</td>\n",
              "      <td>2</td>\n",
              "      <td>16.227874</td>\n",
              "      <td>290</td>\n",
              "      <td>57</td>\n",
              "      <td>7</td>\n",
              "      <td>15.700000</td>\n",
              "      <td>12.100133</td>\n",
              "      <td>1</td>\n",
              "    </tr>\n",
              "    <tr>\n",
              "      <th>4</th>\n",
              "      <td>2</td>\n",
              "      <td>189</td>\n",
              "      <td>2</td>\n",
              "      <td>4.225900</td>\n",
              "      <td>156</td>\n",
              "      <td>55</td>\n",
              "      <td>1</td>\n",
              "      <td>20.200000</td>\n",
              "      <td>17.597478</td>\n",
              "      <td>3</td>\n",
              "    </tr>\n",
              "    <tr>\n",
              "      <th>...</th>\n",
              "      <td>...</td>\n",
              "      <td>...</td>\n",
              "      <td>...</td>\n",
              "      <td>...</td>\n",
              "      <td>...</td>\n",
              "      <td>...</td>\n",
              "      <td>...</td>\n",
              "      <td>...</td>\n",
              "      <td>...</td>\n",
              "      <td>...</td>\n",
              "    </tr>\n",
              "    <tr>\n",
              "      <th>6678</th>\n",
              "      <td>2</td>\n",
              "      <td>280</td>\n",
              "      <td>3</td>\n",
              "      <td>42.210640</td>\n",
              "      <td>18</td>\n",
              "      <td>42</td>\n",
              "      <td>0</td>\n",
              "      <td>34.900000</td>\n",
              "      <td>29.323086</td>\n",
              "      <td>2</td>\n",
              "    </tr>\n",
              "    <tr>\n",
              "      <th>6679</th>\n",
              "      <td>2</td>\n",
              "      <td>1789</td>\n",
              "      <td>2</td>\n",
              "      <td>3.773601</td>\n",
              "      <td>508</td>\n",
              "      <td>52</td>\n",
              "      <td>4</td>\n",
              "      <td>34.800000</td>\n",
              "      <td>28.814617</td>\n",
              "      <td>2</td>\n",
              "    </tr>\n",
              "    <tr>\n",
              "      <th>6680</th>\n",
              "      <td>2</td>\n",
              "      <td>1554</td>\n",
              "      <td>3</td>\n",
              "      <td>31.852630</td>\n",
              "      <td>158</td>\n",
              "      <td>62</td>\n",
              "      <td>1</td>\n",
              "      <td>34.400000</td>\n",
              "      <td>27.200232</td>\n",
              "      <td>1</td>\n",
              "    </tr>\n",
              "    <tr>\n",
              "      <th>6681</th>\n",
              "      <td>2</td>\n",
              "      <td>466</td>\n",
              "      <td>1</td>\n",
              "      <td>18.585823</td>\n",
              "      <td>9</td>\n",
              "      <td>22</td>\n",
              "      <td>0</td>\n",
              "      <td>19.500000</td>\n",
              "      <td>16.578618</td>\n",
              "      <td>3</td>\n",
              "    </tr>\n",
              "    <tr>\n",
              "      <th>6682</th>\n",
              "      <td>2</td>\n",
              "      <td>980</td>\n",
              "      <td>1</td>\n",
              "      <td>13.506725</td>\n",
              "      <td>204</td>\n",
              "      <td>32</td>\n",
              "      <td>4</td>\n",
              "      <td>25.900000</td>\n",
              "      <td>20.509629</td>\n",
              "      <td>1</td>\n",
              "    </tr>\n",
              "  </tbody>\n",
              "</table>\n",
              "<p>33138 rows × 10 columns</p>\n",
              "</div>"
            ],
            "text/plain": [
              "      firm  CowID  BabyNum  ...      T Max        THI  Sampling D Month\n",
              "0        2    728        1  ...  27.826169  22.850519                 2\n",
              "1        2    736        2  ...  34.900000  27.093337                 1\n",
              "2        2    781        1  ...  23.800000  21.498437                 0\n",
              "3        1    388        2  ...  15.700000  12.100133                 1\n",
              "4        2    189        2  ...  20.200000  17.597478                 3\n",
              "...    ...    ...      ...  ...        ...        ...               ...\n",
              "6678     2    280        3  ...  34.900000  29.323086                 2\n",
              "6679     2   1789        2  ...  34.800000  28.814617                 2\n",
              "6680     2   1554        3  ...  34.400000  27.200232                 1\n",
              "6681     2    466        1  ...  19.500000  16.578618                 3\n",
              "6682     2    980        1  ...  25.900000  20.509629                 1\n",
              "\n",
              "[33138 rows x 10 columns]"
            ]
          },
          "metadata": {
            "tags": []
          },
          "execution_count": 58
        }
      ]
    },
    {
      "cell_type": "code",
      "metadata": {
        "id": "majAv8pDFqO1",
        "colab_type": "code",
        "colab": {
          "base_uri": "https://localhost:8080/",
          "height": 156
        },
        "outputId": "9af14b84-70d7-45da-c79b-48926285a315"
      },
      "source": [
        "#把要的類別轉換成one hot\n",
        "import numpy as np\n",
        "from sklearn.preprocessing import OneHotEncoder\n",
        "\n",
        "enc = OneHotEncoder(categorical_features =[0,1,2,6,9])#6\n",
        "enc.fit(all_data)\n",
        "X=enc.transform(new_train).toarray()\n",
        "X_test=enc.transform(new_test).toarray()\n",
        "X.shape"
      ],
      "execution_count": null,
      "outputs": [
        {
          "output_type": "stream",
          "text": [
            "/usr/local/lib/python3.6/dist-packages/sklearn/preprocessing/_encoders.py:363: FutureWarning: The handling of integer data will change in version 0.22. Currently, the categories are determined based on the range [0, max(values)], while in the future they will be determined based on the unique values.\n",
            "If you want the future behaviour and silence this warning, you can specify \"categories='auto'\".\n",
            "In case you used a LabelEncoder before this OneHotEncoder to convert the categories to integers, then you can now use the OneHotEncoder directly.\n",
            "  warnings.warn(msg, FutureWarning)\n",
            "/usr/local/lib/python3.6/dist-packages/sklearn/preprocessing/_encoders.py:385: DeprecationWarning: The 'categorical_features' keyword is deprecated in version 0.20 and will be removed in 0.22. You can use the ColumnTransformer instead.\n",
            "  \"use the ColumnTransformer instead.\", DeprecationWarning)\n"
          ],
          "name": "stderr"
        },
        {
          "output_type": "execute_result",
          "data": {
            "text/plain": [
              "(26455, 1856)"
            ]
          },
          "metadata": {
            "tags": []
          },
          "execution_count": 59
        }
      ]
    },
    {
      "cell_type": "code",
      "metadata": {
        "id": "bVHWkLJgH7wH",
        "colab_type": "code",
        "colab": {
          "base_uri": "https://localhost:8080/",
          "height": 34
        },
        "outputId": "aea819ea-6afd-4988-f987-be87386a9765"
      },
      "source": [
        "X_test.shape"
      ],
      "execution_count": null,
      "outputs": [
        {
          "output_type": "execute_result",
          "data": {
            "text/plain": [
              "(6683, 1856)"
            ]
          },
          "metadata": {
            "tags": []
          },
          "execution_count": 60
        }
      ]
    },
    {
      "cell_type": "code",
      "metadata": {
        "id": "StuiAXygddR8",
        "colab_type": "code",
        "colab": {
          "base_uri": "https://localhost:8080/",
          "height": 419
        },
        "outputId": "b5dfe5bc-e5bd-48fb-921d-119cb8c197e1"
      },
      "source": [
        "new_test"
      ],
      "execution_count": null,
      "outputs": [
        {
          "output_type": "execute_result",
          "data": {
            "text/html": [
              "<div>\n",
              "<style scoped>\n",
              "    .dataframe tbody tr th:only-of-type {\n",
              "        vertical-align: middle;\n",
              "    }\n",
              "\n",
              "    .dataframe tbody tr th {\n",
              "        vertical-align: top;\n",
              "    }\n",
              "\n",
              "    .dataframe thead th {\n",
              "        text-align: right;\n",
              "    }\n",
              "</style>\n",
              "<table border=\"1\" class=\"dataframe\">\n",
              "  <thead>\n",
              "    <tr style=\"text-align: right;\">\n",
              "      <th></th>\n",
              "      <th>firm</th>\n",
              "      <th>CowID</th>\n",
              "      <th>BabyNum</th>\n",
              "      <th>preMilk</th>\n",
              "      <th>FeedDay</th>\n",
              "      <th>Age</th>\n",
              "      <th>BreedNum</th>\n",
              "      <th>T Max</th>\n",
              "      <th>THI</th>\n",
              "      <th>Sampling D Month</th>\n",
              "    </tr>\n",
              "  </thead>\n",
              "  <tbody>\n",
              "    <tr>\n",
              "      <th>0</th>\n",
              "      <td>2</td>\n",
              "      <td>96</td>\n",
              "      <td>3</td>\n",
              "      <td>43.519725</td>\n",
              "      <td>183</td>\n",
              "      <td>70</td>\n",
              "      <td>2</td>\n",
              "      <td>25.5</td>\n",
              "      <td>20.236278</td>\n",
              "      <td>3</td>\n",
              "    </tr>\n",
              "    <tr>\n",
              "      <th>1</th>\n",
              "      <td>2</td>\n",
              "      <td>494</td>\n",
              "      <td>3</td>\n",
              "      <td>28.497401</td>\n",
              "      <td>71</td>\n",
              "      <td>50</td>\n",
              "      <td>0</td>\n",
              "      <td>35.2</td>\n",
              "      <td>23.383510</td>\n",
              "      <td>2</td>\n",
              "    </tr>\n",
              "    <tr>\n",
              "      <th>2</th>\n",
              "      <td>3</td>\n",
              "      <td>1816</td>\n",
              "      <td>1</td>\n",
              "      <td>8.522834</td>\n",
              "      <td>365</td>\n",
              "      <td>38</td>\n",
              "      <td>5</td>\n",
              "      <td>30.4</td>\n",
              "      <td>24.245300</td>\n",
              "      <td>2</td>\n",
              "    </tr>\n",
              "    <tr>\n",
              "      <th>3</th>\n",
              "      <td>2</td>\n",
              "      <td>76</td>\n",
              "      <td>4</td>\n",
              "      <td>37.392398</td>\n",
              "      <td>177</td>\n",
              "      <td>73</td>\n",
              "      <td>1</td>\n",
              "      <td>29.1</td>\n",
              "      <td>23.221440</td>\n",
              "      <td>1</td>\n",
              "    </tr>\n",
              "    <tr>\n",
              "      <th>4</th>\n",
              "      <td>1</td>\n",
              "      <td>250</td>\n",
              "      <td>1</td>\n",
              "      <td>29.436534</td>\n",
              "      <td>42</td>\n",
              "      <td>28</td>\n",
              "      <td>0</td>\n",
              "      <td>11.1</td>\n",
              "      <td>10.980262</td>\n",
              "      <td>3</td>\n",
              "    </tr>\n",
              "    <tr>\n",
              "      <th>...</th>\n",
              "      <td>...</td>\n",
              "      <td>...</td>\n",
              "      <td>...</td>\n",
              "      <td>...</td>\n",
              "      <td>...</td>\n",
              "      <td>...</td>\n",
              "      <td>...</td>\n",
              "      <td>...</td>\n",
              "      <td>...</td>\n",
              "      <td>...</td>\n",
              "    </tr>\n",
              "    <tr>\n",
              "      <th>6678</th>\n",
              "      <td>2</td>\n",
              "      <td>280</td>\n",
              "      <td>3</td>\n",
              "      <td>42.210640</td>\n",
              "      <td>18</td>\n",
              "      <td>42</td>\n",
              "      <td>0</td>\n",
              "      <td>34.9</td>\n",
              "      <td>29.323086</td>\n",
              "      <td>2</td>\n",
              "    </tr>\n",
              "    <tr>\n",
              "      <th>6679</th>\n",
              "      <td>2</td>\n",
              "      <td>1789</td>\n",
              "      <td>2</td>\n",
              "      <td>3.773601</td>\n",
              "      <td>508</td>\n",
              "      <td>52</td>\n",
              "      <td>4</td>\n",
              "      <td>34.8</td>\n",
              "      <td>28.814617</td>\n",
              "      <td>2</td>\n",
              "    </tr>\n",
              "    <tr>\n",
              "      <th>6680</th>\n",
              "      <td>2</td>\n",
              "      <td>1554</td>\n",
              "      <td>3</td>\n",
              "      <td>31.852630</td>\n",
              "      <td>158</td>\n",
              "      <td>62</td>\n",
              "      <td>1</td>\n",
              "      <td>34.4</td>\n",
              "      <td>27.200232</td>\n",
              "      <td>1</td>\n",
              "    </tr>\n",
              "    <tr>\n",
              "      <th>6681</th>\n",
              "      <td>2</td>\n",
              "      <td>466</td>\n",
              "      <td>1</td>\n",
              "      <td>18.585823</td>\n",
              "      <td>9</td>\n",
              "      <td>22</td>\n",
              "      <td>0</td>\n",
              "      <td>19.5</td>\n",
              "      <td>16.578618</td>\n",
              "      <td>3</td>\n",
              "    </tr>\n",
              "    <tr>\n",
              "      <th>6682</th>\n",
              "      <td>2</td>\n",
              "      <td>980</td>\n",
              "      <td>1</td>\n",
              "      <td>13.506725</td>\n",
              "      <td>204</td>\n",
              "      <td>32</td>\n",
              "      <td>4</td>\n",
              "      <td>25.9</td>\n",
              "      <td>20.509629</td>\n",
              "      <td>1</td>\n",
              "    </tr>\n",
              "  </tbody>\n",
              "</table>\n",
              "<p>6683 rows × 10 columns</p>\n",
              "</div>"
            ],
            "text/plain": [
              "      firm  CowID  BabyNum  ...  T Max        THI  Sampling D Month\n",
              "0        2     96        3  ...   25.5  20.236278                 3\n",
              "1        2    494        3  ...   35.2  23.383510                 2\n",
              "2        3   1816        1  ...   30.4  24.245300                 2\n",
              "3        2     76        4  ...   29.1  23.221440                 1\n",
              "4        1    250        1  ...   11.1  10.980262                 3\n",
              "...    ...    ...      ...  ...    ...        ...               ...\n",
              "6678     2    280        3  ...   34.9  29.323086                 2\n",
              "6679     2   1789        2  ...   34.8  28.814617                 2\n",
              "6680     2   1554        3  ...   34.4  27.200232                 1\n",
              "6681     2    466        1  ...   19.5  16.578618                 3\n",
              "6682     2    980        1  ...   25.9  20.509629                 1\n",
              "\n",
              "[6683 rows x 10 columns]"
            ]
          },
          "metadata": {
            "tags": []
          },
          "execution_count": 61
        }
      ]
    },
    {
      "cell_type": "code",
      "metadata": {
        "id": "qnfAbfP0GfCT",
        "colab_type": "code",
        "colab": {
          "base_uri": "https://localhost:8080/",
          "height": 238
        },
        "outputId": "fb82c301-958c-4c70-d3b8-367800353ba7"
      },
      "source": [
        "X"
      ],
      "execution_count": null,
      "outputs": [
        {
          "output_type": "execute_result",
          "data": {
            "text/plain": [
              "array([[ 0.        ,  1.        ,  0.        , ..., 30.        ,\n",
              "        27.82616918, 22.85051932],\n",
              "       [ 0.        ,  1.        ,  0.        , ..., 38.        ,\n",
              "        34.9       , 27.09333711],\n",
              "       [ 0.        ,  1.        ,  0.        , ..., 27.        ,\n",
              "        23.8       , 21.4984371 ],\n",
              "       ...,\n",
              "       [ 0.        ,  1.        ,  0.        , ..., 26.        ,\n",
              "        16.2       , 13.40103018],\n",
              "       [ 1.        ,  0.        ,  0.        , ..., 34.        ,\n",
              "        34.1       , 26.27994148],\n",
              "       [ 1.        ,  0.        ,  0.        , ..., 70.        ,\n",
              "        33.8       , 26.86139404]])"
            ]
          },
          "metadata": {
            "tags": []
          },
          "execution_count": 62
        }
      ]
    },
    {
      "cell_type": "code",
      "metadata": {
        "id": "_ZaaNOl2OpGQ",
        "colab_type": "code",
        "colab": {}
      },
      "source": [
        "#X=X.values\n",
        "X = X.astype('float32')\n",
        "scaler = MinMaxScaler(feature_range=(0, 1))\n",
        "X = scaler.fit_transform(X)\n",
        "y=y.values"
      ],
      "execution_count": null,
      "outputs": []
    },
    {
      "cell_type": "code",
      "metadata": {
        "id": "GWd6pyJkSIA9",
        "colab_type": "code",
        "colab": {
          "base_uri": "https://localhost:8080/",
          "height": 238
        },
        "outputId": "9061a12c-9487-41fe-8933-084fe02f24d7"
      },
      "source": [
        "X"
      ],
      "execution_count": null,
      "outputs": [
        {
          "output_type": "execute_result",
          "data": {
            "text/plain": [
              "array([[0.        , 1.        , 0.        , ..., 0.18867923, 0.61618984,\n",
              "        0.6523535 ],\n",
              "       [0.        , 1.        , 0.        , ..., 0.2389937 , 0.8338462 ,\n",
              "        0.82666194],\n",
              "       [0.        , 1.        , 0.        , ..., 0.16981131, 0.49230766,\n",
              "        0.5968058 ],\n",
              "       ...,\n",
              "       [0.        , 1.        , 0.        , ..., 0.163522  , 0.25846156,\n",
              "        0.26413873],\n",
              "       [1.        , 0.        , 0.        , ..., 0.21383648, 0.8092307 ,\n",
              "        0.7932451 ],\n",
              "       [1.        , 0.        , 0.        , ..., 0.44025156, 0.79999995,\n",
              "        0.81713307]], dtype=float32)"
            ]
          },
          "metadata": {
            "tags": []
          },
          "execution_count": 64
        }
      ]
    },
    {
      "cell_type": "code",
      "metadata": {
        "id": "cj4Cpx3_-HPK",
        "colab_type": "code",
        "colab": {}
      },
      "source": [
        "x_train,x_test,y_train,y_test=train_test_split(X,y,test_size=0.1,random_state=42)\n",
        "#random_state為02.ipynb"
      ],
      "execution_count": null,
      "outputs": []
    },
    {
      "cell_type": "code",
      "metadata": {
        "id": "SsP2Se_z-IzP",
        "colab_type": "code",
        "colab": {
          "base_uri": "https://localhost:8080/",
          "height": 85
        },
        "outputId": "98f701ad-68f4-41b7-cacd-0e903d3588ad"
      },
      "source": [
        "print(\"Please show me the shape of x_train:\",x_train.shape)\n",
        "print(\"Please show me the shape of x_test:\",x_test.shape)\n",
        "print(\"Please show me the shape of y_train:\",y_train.shape)\n",
        "print(\"Please show me the shape of y_test:\",y_test.shape)"
      ],
      "execution_count": null,
      "outputs": [
        {
          "output_type": "stream",
          "text": [
            "Please show me the shape of x_train: (23809, 1856)\n",
            "Please show me the shape of x_test: (2646, 1856)\n",
            "Please show me the shape of y_train: (23809,)\n",
            "Please show me the shape of y_test: (2646,)\n"
          ],
          "name": "stdout"
        }
      ]
    },
    {
      "cell_type": "code",
      "metadata": {
        "id": "Hnkk7bxDO89G",
        "colab_type": "code",
        "colab": {}
      },
      "source": [
        "from keras import backend as K\n",
        "def rmse(y_pred, y_true):\n",
        "    return K.sqrt(K.mean(K.square(y_pred - y_true)))"
      ],
      "execution_count": null,
      "outputs": []
    },
    {
      "cell_type": "code",
      "metadata": {
        "id": "Kv7RvMvJ-Q9T",
        "colab_type": "code",
        "colab": {
          "base_uri": "https://localhost:8080/",
          "height": 51
        },
        "outputId": "2e3741c1-dbd8-45c9-cefd-6c32cb60de81"
      },
      "source": [
        "from sklearn.model_selection import KFold\n",
        "from keras import regularizers\n",
        "from matplotlib import pyplot\n",
        "from keras import optimizers\n",
        "import keras\n",
        "from keras.callbacks import ReduceLROnPlateau\n",
        "count=1\n",
        "trainacc=0\n",
        "testacc=0\n",
        "keras.initializers.RandomNormal(mean=0.0, stddev=0.05, seed=None)\n",
        "print(\"y_test:\") #看每次y_test一不一樣\n",
        "print(y_test)"
      ],
      "execution_count": null,
      "outputs": [
        {
          "output_type": "stream",
          "text": [
            "y_test:\n",
            "[14.  31.  41.4 ... 29.  26.  19. ]\n"
          ],
          "name": "stdout"
        }
      ]
    },
    {
      "cell_type": "code",
      "metadata": {
        "id": "vfrQHPnWAl8s",
        "colab_type": "code",
        "colab": {
          "base_uri": "https://localhost:8080/",
          "height": 51
        },
        "outputId": "8cdf5b6a-bcee-4e30-bab3-d83a1649ba2c"
      },
      "source": [
        "print(\"y_train:\") #看每次y_train一不一樣\n",
        "print(y_train)"
      ],
      "execution_count": null,
      "outputs": [
        {
          "output_type": "stream",
          "text": [
            "y_train:\n",
            "[35.  19.  30.  ... 32.2 24.6 50. ]\n"
          ],
          "name": "stdout"
        }
      ]
    },
    {
      "cell_type": "code",
      "metadata": {
        "id": "uMzNkYwQ-SIa",
        "colab_type": "code",
        "colab": {}
      },
      "source": [
        "x_train = np.reshape(x_train,(x_train.shape[0],1,x_train.shape[1]))#做成三維\n",
        "x_test = np.reshape(x_test,(x_test.shape[0],1,x_test.shape[1]))"
      ],
      "execution_count": null,
      "outputs": []
    },
    {
      "cell_type": "code",
      "metadata": {
        "id": "3IsgU5mA-13p",
        "colab_type": "code",
        "colab": {
          "base_uri": "https://localhost:8080/",
          "height": 85
        },
        "outputId": "9bfed7b4-3482-4e81-da93-779d9428074b"
      },
      "source": [
        "print(\"Please show me the shape of x_train:\",x_train.shape)\n",
        "print(\"Please show me the shape of x_test:\",x_test.shape)\n",
        "print(\"Please show me the shape of y_train:\",y_train.shape)\n",
        "print(\"Please show me the shape of y_test:\",y_test.shape)"
      ],
      "execution_count": null,
      "outputs": [
        {
          "output_type": "stream",
          "text": [
            "Please show me the shape of x_train: (23809, 1, 1856)\n",
            "Please show me the shape of x_test: (2646, 1, 1856)\n",
            "Please show me the shape of y_train: (23809,)\n",
            "Please show me the shape of y_test: (2646,)\n"
          ],
          "name": "stdout"
        }
      ]
    },
    {
      "cell_type": "code",
      "metadata": {
        "id": "Tj00-1KuKE1j",
        "colab_type": "code",
        "colab": {
          "base_uri": "https://localhost:8080/",
          "height": 1000
        },
        "outputId": "eb679fd4-f68b-433e-92fe-2cc80372b541"
      },
      "source": [
        "from keras.layers import Embedding, Bidirectional,TimeDistributed\n",
        "from keras.layers.normalization import BatchNormalization\n",
        "from keras.layers import Activation, Dense\n",
        "from keras.callbacks import EarlyStopping\n",
        "model = Sequential()#LSTM\n",
        "model.add(LSTM(64, input_shape=(1,x_train.shape[2])))\n",
        "model.add(Dropout(0.5))\n",
        "\n",
        "model.add(Dense(1))\n",
        "ADAM=keras.optimizers.Adam(lr=0.0005, beta_1=0.9, beta_2=0.999, epsilon=None, decay=0.0, amsgrad=False)\n",
        "model.compile(loss=rmse, optimizer=ADAM,metrics=[rmse])\n",
        "early_stopping=EarlyStopping(monitor='val_loss', patience=10)\n",
        "#reduce_lr = ReduceLROnPlateau(monitor='val_loss', factor=0.2, patience=5, min_lr=0.001)\n",
        "history=model.fit(x_train, y_train, epochs=500,validation_data=(x_test, y_test), batch_size=5, verbose=2, callbacks=[early_stopping],shuffle=True)#epochs要改回1000\n",
        "\n",
        "Predicts = model.predict(x_train)#TrainRMSE\n",
        "testScore = math.sqrt(mean_squared_error(y_train, Predicts))\n",
        "print('Train Score: %.2f RMSE' % (testScore))\n",
        "    \n",
        "\n",
        "Predict = model.predict(x_test)#TestRMSE\n",
        "testScore = math.sqrt(mean_squared_error(y_test, Predict))\n",
        "print('Validation Score: %.2f RMSE' % (testScore))\n",
        "print(Predict)\n"
      ],
      "execution_count": null,
      "outputs": [
        {
          "output_type": "stream",
          "text": [
            "Epoch 1/500\n",
            "4762/4762 - 16s - loss: 6.9624 - rmse: 6.9622 - val_loss: 1.7328 - val_rmse: 1.7306\n",
            "Epoch 2/500\n",
            "4762/4762 - 16s - loss: 3.1678 - rmse: 3.1679 - val_loss: 1.2979 - val_rmse: 1.2971\n",
            "Epoch 3/500\n",
            "4762/4762 - 16s - loss: 2.9984 - rmse: 2.9984 - val_loss: 1.0886 - val_rmse: 1.0871\n",
            "Epoch 4/500\n",
            "4762/4762 - 15s - loss: 2.8993 - rmse: 2.8992 - val_loss: 0.9412 - val_rmse: 0.9400\n",
            "Epoch 5/500\n",
            "4762/4762 - 15s - loss: 2.8064 - rmse: 2.8065 - val_loss: 0.8698 - val_rmse: 0.8687\n",
            "Epoch 6/500\n",
            "4762/4762 - 15s - loss: 2.7360 - rmse: 2.7360 - val_loss: 0.8006 - val_rmse: 0.7997\n",
            "Epoch 7/500\n",
            "4762/4762 - 16s - loss: 2.6714 - rmse: 2.6714 - val_loss: 0.7644 - val_rmse: 0.7634\n",
            "Epoch 8/500\n",
            "4762/4762 - 16s - loss: 2.5974 - rmse: 2.5974 - val_loss: 0.7999 - val_rmse: 0.7988\n",
            "Epoch 9/500\n",
            "4762/4762 - 16s - loss: 2.5326 - rmse: 2.5325 - val_loss: 0.8259 - val_rmse: 0.8257\n",
            "Epoch 10/500\n",
            "4762/4762 - 16s - loss: 2.4751 - rmse: 2.4750 - val_loss: 0.7594 - val_rmse: 0.7595\n",
            "Epoch 11/500\n",
            "4762/4762 - 16s - loss: 2.4055 - rmse: 2.4054 - val_loss: 0.7241 - val_rmse: 0.7242\n",
            "Epoch 12/500\n",
            "4762/4762 - 16s - loss: 2.3413 - rmse: 2.3413 - val_loss: 0.7389 - val_rmse: 0.7380\n",
            "Epoch 13/500\n",
            "4762/4762 - 15s - loss: 2.2960 - rmse: 2.2960 - val_loss: 0.7046 - val_rmse: 0.7046\n",
            "Epoch 14/500\n",
            "4762/4762 - 16s - loss: 2.2495 - rmse: 2.2496 - val_loss: 0.7117 - val_rmse: 0.7119\n",
            "Epoch 15/500\n",
            "4762/4762 - 16s - loss: 2.1865 - rmse: 2.1865 - val_loss: 0.7014 - val_rmse: 0.7013\n",
            "Epoch 16/500\n",
            "4762/4762 - 16s - loss: 2.1428 - rmse: 2.1428 - val_loss: 0.6554 - val_rmse: 0.6557\n",
            "Epoch 17/500\n",
            "4762/4762 - 15s - loss: 2.0820 - rmse: 2.0820 - val_loss: 0.6136 - val_rmse: 0.6129\n",
            "Epoch 18/500\n",
            "4762/4762 - 15s - loss: 2.0519 - rmse: 2.0519 - val_loss: 0.8153 - val_rmse: 0.8148\n",
            "Epoch 19/500\n",
            "4762/4762 - 15s - loss: 1.9900 - rmse: 1.9899 - val_loss: 0.7503 - val_rmse: 0.7508\n",
            "Epoch 20/500\n",
            "4762/4762 - 15s - loss: 1.9410 - rmse: 1.9410 - val_loss: 0.6158 - val_rmse: 0.6156\n",
            "Epoch 21/500\n",
            "4762/4762 - 15s - loss: 1.8854 - rmse: 1.8854 - val_loss: 0.6428 - val_rmse: 0.6426\n",
            "Epoch 22/500\n",
            "4762/4762 - 15s - loss: 1.8279 - rmse: 1.8278 - val_loss: 0.7004 - val_rmse: 0.7005\n",
            "Epoch 23/500\n",
            "4762/4762 - 15s - loss: 1.7955 - rmse: 1.7954 - val_loss: 0.5833 - val_rmse: 0.5829\n",
            "Epoch 24/500\n",
            "4762/4762 - 15s - loss: 1.7701 - rmse: 1.7701 - val_loss: 0.6127 - val_rmse: 0.6125\n",
            "Epoch 25/500\n",
            "4762/4762 - 15s - loss: 1.7282 - rmse: 1.7282 - val_loss: 0.6192 - val_rmse: 0.6184\n",
            "Epoch 26/500\n",
            "4762/4762 - 15s - loss: 1.6909 - rmse: 1.6910 - val_loss: 0.6179 - val_rmse: 0.6174\n",
            "Epoch 27/500\n",
            "4762/4762 - 17s - loss: 1.6499 - rmse: 1.6499 - val_loss: 0.5875 - val_rmse: 0.5867\n",
            "Epoch 28/500\n",
            "4762/4762 - 16s - loss: 1.6280 - rmse: 1.6280 - val_loss: 0.7376 - val_rmse: 0.7372\n",
            "Epoch 29/500\n",
            "4762/4762 - 16s - loss: 1.5893 - rmse: 1.5893 - val_loss: 0.5920 - val_rmse: 0.5917\n",
            "Epoch 30/500\n",
            "4762/4762 - 16s - loss: 1.5604 - rmse: 1.5604 - val_loss: 0.5904 - val_rmse: 0.5899\n",
            "Epoch 31/500\n",
            "4762/4762 - 15s - loss: 1.5314 - rmse: 1.5314 - val_loss: 0.5868 - val_rmse: 0.5870\n",
            "Epoch 32/500\n",
            "4762/4762 - 15s - loss: 1.5018 - rmse: 1.5018 - val_loss: 0.5966 - val_rmse: 0.5960\n",
            "Epoch 33/500\n",
            "4762/4762 - 16s - loss: 1.4650 - rmse: 1.4649 - val_loss: 0.6186 - val_rmse: 0.6179\n",
            "Train Score: 0.77 RMSE\n",
            "Validation Score: 0.82 RMSE\n",
            "[[13.815478]\n",
            " [30.572615]\n",
            " [39.798447]\n",
            " ...\n",
            " [29.505718]\n",
            " [26.156069]\n",
            " [18.808332]]\n"
          ],
          "name": "stdout"
        }
      ]
    },
    {
      "cell_type": "code",
      "metadata": {
        "id": "aY_tEkU--cBt",
        "colab_type": "code",
        "colab": {
          "base_uri": "https://localhost:8080/",
          "height": 295
        },
        "outputId": "23408d1c-85b9-4863-b804-66dad1a109ff"
      },
      "source": [
        "plt.plot(history.history['loss'])\n",
        "plt.plot(history.history['val_loss'])\n",
        "pyplot.title('model train vs validation loss')\n",
        "pyplot.ylabel('loss')\n",
        "pyplot.xlabel('epoch')\n",
        "pyplot.legend(['train', 'validation'], loc='upper right')\n",
        "pyplot.show()"
      ],
      "execution_count": null,
      "outputs": [
        {
          "output_type": "display_data",
          "data": {
            "image/png": "[encoded data removed]",
            "text/plain": [
              "<Figure size 432x288 with 1 Axes>"
            ]
          },
          "metadata": {
            "tags": [],
            "needs_background": "light"
          }
        }
      ]
    },
    {
      "cell_type": "code",
      "metadata": {
        "id": "qEfpNwpMxOVT",
        "colab_type": "code",
        "colab": {
          "base_uri": "https://localhost:8080/",
          "height": 255
        },
        "outputId": "fdbccab6-21db-47f5-c9c1-21a461123e6f"
      },
      "source": [
        "model.summary()"
      ],
      "execution_count": null,
      "outputs": [
        {
          "output_type": "stream",
          "text": [
            "Model: \"sequential\"\n",
            "_________________________________________________________________\n",
            "Layer (type)                 Output Shape              Param #   \n",
            "=================================================================\n",
            "lstm (LSTM)                  (None, 64)                491776    \n",
            "_________________________________________________________________\n",
            "dropout (Dropout)            (None, 64)                0         \n",
            "_________________________________________________________________\n",
            "dense (Dense)                (None, 1)                 65        \n",
            "=================================================================\n",
            "Total params: 491,841\n",
            "Trainable params: 491,841\n",
            "Non-trainable params: 0\n",
            "_________________________________________________________________\n"
          ],
          "name": "stdout"
        }
      ]
    },
    {
      "cell_type": "code",
      "metadata": {
        "id": "VC0MD2pFPXuF",
        "colab_type": "code",
        "colab": {}
      },
      "source": [
        "#X_test=X_test.values\n",
        "X_test=X_test.astype('float32')\n",
        "X_test=scaler.transform(X_test)"
      ],
      "execution_count": null,
      "outputs": []
    },
    {
      "cell_type": "code",
      "metadata": {
        "id": "HfeCtS4-ICTB",
        "colab_type": "code",
        "colab": {
          "base_uri": "https://localhost:8080/",
          "height": 34
        },
        "outputId": "ff83ccc3-e92c-43f7-8085-bc14eeebbada"
      },
      "source": [
        "X_test.shape"
      ],
      "execution_count": null,
      "outputs": [
        {
          "output_type": "execute_result",
          "data": {
            "text/plain": [
              "(6683, 1856)"
            ]
          },
          "metadata": {
            "tags": []
          },
          "execution_count": 76
        }
      ]
    },
    {
      "cell_type": "code",
      "metadata": {
        "id": "fSyiOY3H-iGd",
        "colab_type": "code",
        "colab": {}
      },
      "source": [
        "X_test= np.reshape(X_test,(X_test.shape[0],1,X_test.shape[1]))"
      ],
      "execution_count": null,
      "outputs": []
    },
    {
      "cell_type": "code",
      "metadata": {
        "id": "Znchq0qU3sPB",
        "colab_type": "code",
        "colab": {
          "base_uri": "https://localhost:8080/",
          "height": 34
        },
        "outputId": "767c5f95-c2cb-41a1-d6fe-45f776fa00ab"
      },
      "source": [
        "X_test.shape"
      ],
      "execution_count": null,
      "outputs": [
        {
          "output_type": "execute_result",
          "data": {
            "text/plain": [
              "(6683, 1, 1856)"
            ]
          },
          "metadata": {
            "tags": []
          },
          "execution_count": 78
        }
      ]
    },
    {
      "cell_type": "code",
      "metadata": {
        "id": "woFRArSF8MGp",
        "colab_type": "code",
        "colab": {
          "base_uri": "https://localhost:8080/",
          "height": 136
        },
        "outputId": "dfd7fbb2-6272-4f95-e0b6-9435a692f424"
      },
      "source": [
        "Prediction = model.predict(X_test)\n",
        "Prediction"
      ],
      "execution_count": null,
      "outputs": [
        {
          "output_type": "execute_result",
          "data": {
            "text/plain": [
              "array([[39.956337],\n",
              "       [27.486525],\n",
              "       [12.351695],\n",
              "       ...,\n",
              "       [32.197685],\n",
              "       [20.025951],\n",
              "       [15.910713]], dtype=float32)"
            ]
          },
          "metadata": {
            "tags": []
          },
          "execution_count": 79
        }
      ]
    },
    {
      "cell_type": "code",
      "metadata": {
        "id": "CCqY6z8KxRaR",
        "colab_type": "code",
        "colab": {
          "base_uri": "https://localhost:8080/",
          "height": 34
        },
        "outputId": "39b2fdec-db68-4418-a8ce-11097bc5816f"
      },
      "source": [
        "testScore = math.sqrt(mean_squared_error(y_fortest, Prediction))\n",
        "print('Test Score: %.2f RMSE' % (testScore))"
      ],
      "execution_count": null,
      "outputs": [
        {
          "output_type": "stream",
          "text": [
            "Test Score: 0.86 RMSE\n"
          ],
          "name": "stdout"
        }
      ]
    },
    {
      "cell_type": "code",
      "metadata": {
        "id": "tyhR0UCNf5by",
        "colab_type": "code",
        "colab": {
          "base_uri": "https://localhost:8080/",
          "height": 221
        },
        "outputId": "78c87963-c7ae-4b84-9c10-a572b72157a3"
      },
      "source": [
        "y_fortest"
      ],
      "execution_count": null,
      "outputs": [
        {
          "output_type": "execute_result",
          "data": {
            "text/plain": [
              "0       40.0\n",
              "1       28.0\n",
              "2       12.0\n",
              "3       35.0\n",
              "4       28.8\n",
              "        ... \n",
              "6678    39.0\n",
              "6679    10.0\n",
              "6680    30.6\n",
              "6681    20.0\n",
              "6682    16.0\n",
              "Name: Milk, Length: 6683, dtype: float64"
            ]
          },
          "metadata": {
            "tags": []
          },
          "execution_count": 81
        }
      ]
    },
    {
      "cell_type": "code",
      "metadata": {
        "id": "17SfwASAZ0lV",
        "colab_type": "code",
        "colab": {}
      },
      "source": [
        "from numpy import ndarray\n",
        "import numpy as np\n",
        "compare=np.zeros(5,int)\n",
        "#0-2,3-5,6-8,9-11,11以上\n",
        "#print(compare[0])\n",
        "#print(compare[1])\n",
        "#print(compare[2])\n",
        "#print(compare[3])\n",
        "#print(compare[4])"
      ],
      "execution_count": null,
      "outputs": []
    },
    {
      "cell_type": "code",
      "metadata": {
        "id": "s43e5kNTNRpe",
        "colab_type": "code",
        "colab": {}
      },
      "source": [
        "y=0\n",
        "for i in range(6683):\n",
        "  temp=y_fortest[i]-Prediction[i]\n",
        "  num=abs(temp)\n",
        "  if num>0 and num<=2:\n",
        "    compare[0]=compare[0]+1\n",
        "  elif num>2 and num <=5:\n",
        "    compare[1]=compare[1]+1\n",
        "  elif num>5 and num <=8:\n",
        "    compare[2]=compare[2]+1\n",
        "  elif num>8 and num <=11:\n",
        "    compare[3]=compare[3]+1\n",
        "  elif num>11:\n",
        "    compare[4]=compare[4]+1"
      ],
      "execution_count": null,
      "outputs": []
    },
    {
      "cell_type": "code",
      "metadata": {
        "id": "i_73Q_hBeA9p",
        "colab_type": "code",
        "colab": {
          "base_uri": "https://localhost:8080/",
          "height": 34
        },
        "outputId": "b8a092c6-bae6-464f-d4a8-5362bb9b6c69"
      },
      "source": [
        "print(compare[0],compare[1],compare[2],compare[3],compare[4])"
      ],
      "execution_count": null,
      "outputs": [
        {
          "output_type": "stream",
          "text": [
            "6534 117 24 3 5\n"
          ],
          "name": "stdout"
        }
      ]
    },
    {
      "cell_type": "code",
      "metadata": {
        "id": "vviKXJ8ZfRjh",
        "colab_type": "code",
        "colab": {
          "base_uri": "https://localhost:8080/",
          "height": 282
        },
        "outputId": "b79b3ff4-ca5e-4132-9fe1-fb92f2d1e2a5"
      },
      "source": [
        "import matplotlib.pyplot as plt\n",
        "x_ray=['0-2','3-5','6-8','9-11','11up']\n",
        "plt.bar(x_ray, compare, label = 'compare')\n"
      ],
      "execution_count": null,
      "outputs": [
        {
          "output_type": "execute_result",
          "data": {
            "text/plain": [
              "<BarContainer object of 5 artists>"
            ]
          },
          "metadata": {
            "tags": []
          },
          "execution_count": 85
        },
        {
          "output_type": "display_data",
          "data": {
            "image/png": "[encoded data removed]",
            "text/plain": [
              "<Figure size 432x288 with 1 Axes>"
            ]
          },
          "metadata": {
            "tags": [],
            "needs_background": "light"
          }
        }
      ]
    },
    {
      "cell_type": "code",
      "metadata": {
        "id": "SjRjKAH1mMKi",
        "colab_type": "code",
        "colab": {
          "base_uri": "https://localhost:8080/",
          "height": 282
        },
        "outputId": "e268e53a-efd8-4374-b5b4-12d1546a8440"
      },
      "source": [
        "print(plt.bar(x_ray, compare, label = 'compare'))"
      ],
      "execution_count": null,
      "outputs": [
        {
          "output_type": "stream",
          "text": [
            "<BarContainer object of 5 artists>\n"
          ],
          "name": "stdout"
        },
        {
          "output_type": "display_data",
          "data": {
            "image/png": "[encoded data removed]",
            "text/plain": [
              "<Figure size 432x288 with 1 Axes>"
            ]
          },
          "metadata": {
            "tags": [],
            "needs_background": "light"
          }
        }
      ]
    },
    {
      "cell_type": "code",
      "metadata": {
        "id": "Ju9aeAkOhiPq",
        "colab_type": "code",
        "colab": {}
      },
      "source": [
        "from numpy import ndarray\n",
        "import numpy as np\n",
        "compare0=np.zeros(5,int)\n",
        "y=0\n",
        "for i in range(6683):\n",
        "  temp=y_fortest[i]-Prediction[i]\n",
        "  num=abs(temp)\n",
        "  if num>0 and num<=1:\n",
        "    compare0[0]=compare0[0]+1\n",
        "  elif num>1 and num <=2:\n",
        "    compare0[1]=compare0[1]+1\n",
        "  elif num>2 and num <=4:\n",
        "    compare0[2]=compare0[2]+1\n",
        "  elif num>4 and num <=8:\n",
        "    compare0[3]=compare0[3]+1\n",
        "  elif num>8:\n",
        "    compare0[4]=compare0[4]+1"
      ],
      "execution_count": null,
      "outputs": []
    },
    {
      "cell_type": "code",
      "metadata": {
        "id": "rSf1o3m0hqfN",
        "colab_type": "code",
        "colab": {
          "base_uri": "https://localhost:8080/",
          "height": 34
        },
        "outputId": "608b191a-0379-40dd-e326-a7443c7244b2"
      },
      "source": [
        "print(compare0[0],compare0[1],compare0[2],compare0[3],compare[4])"
      ],
      "execution_count": null,
      "outputs": [
        {
          "output_type": "stream",
          "text": [
            "12733 452 116 52 13\n"
          ],
          "name": "stdout"
        }
      ]
    },
    {
      "cell_type": "code",
      "metadata": {
        "id": "MEK8MftUhts5",
        "colab_type": "code",
        "colab": {
          "base_uri": "https://localhost:8080/",
          "height": 282
        },
        "outputId": "cf3754f8-042b-442f-b7e1-178c0ceb1c7c"
      },
      "source": [
        "import matplotlib.pyplot as plt\n",
        "x_ray=['0-1','1-2','2-4','4-8','8up']\n",
        "plt.bar(x_ray, compare, label = 'compare')"
      ],
      "execution_count": null,
      "outputs": [
        {
          "output_type": "execute_result",
          "data": {
            "text/plain": [
              "<BarContainer object of 5 artists>"
            ]
          },
          "metadata": {
            "tags": []
          },
          "execution_count": 92
        },
        {
          "output_type": "display_data",
          "data": {
            "image/png": "[encoded data removed]",
            "text/plain": [
              "<Figure size 432x288 with 1 Axes>"
            ]
          },
          "metadata": {
            "tags": [],
            "needs_background": "light"
          }
        }
      ]
    },
    {
      "cell_type": "code",
      "metadata": {
        "id": "3v6PZEQSPlNE",
        "colab_type": "code",
        "colab": {}
      },
      "source": [
        "import pandas as pd\n",
        "#字典中的key值即為csv中列名\n",
        "dataframe = pd.DataFrame({'y_true':list(y_fortest),'prediction':list(Prediction)})\n",
        "#dataframe = pd.DataFrame({'prediction':data})\n",
        "#將DataFrame儲存為csv,index表示是否顯示行名，default=True\n",
        "dataframe.to_csv(\"testPrediction.csv\",index=False,sep=',')"
      ],
      "execution_count": null,
      "outputs": []
    },
    {
      "cell_type": "code",
      "metadata": {
        "id": "hBY1mYBqWHat",
        "colab_type": "code",
        "colab": {}
      },
      "source": [
        "from keras.models import load_model\n",
        "\n",
        "model.save('0902_4.88.h5')  # creates a HDF5 file 'model.h5'"
      ],
      "execution_count": null,
      "outputs": []
    }
  ]
}